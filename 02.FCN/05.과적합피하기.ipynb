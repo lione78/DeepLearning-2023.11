{
 "cells": [
  {
   "cell_type": "markdown",
   "metadata": {},
   "source": [
    "### 과적합 피하기 - 초음파 광물 데이터\n",
    "- ModelCheckpoint, EarlyStopping을 꼭 이용해야 함. "
   ]
  },
  {
   "cell_type": "code",
   "execution_count": 1,
   "metadata": {},
   "outputs": [],
   "source": [
    "import numpy as np\n",
    "import matplotlib.pyplot as plt\n",
    "import tensorflow as tf\n",
    "seed = 2023\n",
    "np.random.seed(seed)\n",
    "tf.random.set_seed(seed)"
   ]
  },
  {
   "cell_type": "code",
   "execution_count": 2,
   "metadata": {},
   "outputs": [],
   "source": [
    "import warnings\n",
    "warnings.filterwarnings('ignore')"
   ]
  },
  {
   "cell_type": "markdown",
   "metadata": {},
   "source": [
    "- 데이터 전처리"
   ]
  },
  {
   "cell_type": "code",
   "execution_count": 3,
   "metadata": {},
   "outputs": [
    {
     "data": {
      "text/html": [
       "<div>\n",
       "<style scoped>\n",
       "    .dataframe tbody tr th:only-of-type {\n",
       "        vertical-align: middle;\n",
       "    }\n",
       "\n",
       "    .dataframe tbody tr th {\n",
       "        vertical-align: top;\n",
       "    }\n",
       "\n",
       "    .dataframe thead th {\n",
       "        text-align: right;\n",
       "    }\n",
       "</style>\n",
       "<table border=\"1\" class=\"dataframe\">\n",
       "  <thead>\n",
       "    <tr style=\"text-align: right;\">\n",
       "      <th></th>\n",
       "      <th>0</th>\n",
       "      <th>1</th>\n",
       "      <th>2</th>\n",
       "      <th>3</th>\n",
       "      <th>4</th>\n",
       "      <th>5</th>\n",
       "      <th>6</th>\n",
       "      <th>7</th>\n",
       "      <th>8</th>\n",
       "      <th>9</th>\n",
       "      <th>...</th>\n",
       "      <th>51</th>\n",
       "      <th>52</th>\n",
       "      <th>53</th>\n",
       "      <th>54</th>\n",
       "      <th>55</th>\n",
       "      <th>56</th>\n",
       "      <th>57</th>\n",
       "      <th>58</th>\n",
       "      <th>59</th>\n",
       "      <th>60</th>\n",
       "    </tr>\n",
       "  </thead>\n",
       "  <tbody>\n",
       "    <tr>\n",
       "      <th>0</th>\n",
       "      <td>0.0200</td>\n",
       "      <td>0.0371</td>\n",
       "      <td>0.0428</td>\n",
       "      <td>0.0207</td>\n",
       "      <td>0.0954</td>\n",
       "      <td>0.0986</td>\n",
       "      <td>0.1539</td>\n",
       "      <td>0.1601</td>\n",
       "      <td>0.3109</td>\n",
       "      <td>0.2111</td>\n",
       "      <td>...</td>\n",
       "      <td>0.0027</td>\n",
       "      <td>0.0065</td>\n",
       "      <td>0.0159</td>\n",
       "      <td>0.0072</td>\n",
       "      <td>0.0167</td>\n",
       "      <td>0.0180</td>\n",
       "      <td>0.0084</td>\n",
       "      <td>0.0090</td>\n",
       "      <td>0.0032</td>\n",
       "      <td>R</td>\n",
       "    </tr>\n",
       "    <tr>\n",
       "      <th>1</th>\n",
       "      <td>0.0453</td>\n",
       "      <td>0.0523</td>\n",
       "      <td>0.0843</td>\n",
       "      <td>0.0689</td>\n",
       "      <td>0.1183</td>\n",
       "      <td>0.2583</td>\n",
       "      <td>0.2156</td>\n",
       "      <td>0.3481</td>\n",
       "      <td>0.3337</td>\n",
       "      <td>0.2872</td>\n",
       "      <td>...</td>\n",
       "      <td>0.0084</td>\n",
       "      <td>0.0089</td>\n",
       "      <td>0.0048</td>\n",
       "      <td>0.0094</td>\n",
       "      <td>0.0191</td>\n",
       "      <td>0.0140</td>\n",
       "      <td>0.0049</td>\n",
       "      <td>0.0052</td>\n",
       "      <td>0.0044</td>\n",
       "      <td>R</td>\n",
       "    </tr>\n",
       "    <tr>\n",
       "      <th>2</th>\n",
       "      <td>0.0262</td>\n",
       "      <td>0.0582</td>\n",
       "      <td>0.1099</td>\n",
       "      <td>0.1083</td>\n",
       "      <td>0.0974</td>\n",
       "      <td>0.2280</td>\n",
       "      <td>0.2431</td>\n",
       "      <td>0.3771</td>\n",
       "      <td>0.5598</td>\n",
       "      <td>0.6194</td>\n",
       "      <td>...</td>\n",
       "      <td>0.0232</td>\n",
       "      <td>0.0166</td>\n",
       "      <td>0.0095</td>\n",
       "      <td>0.0180</td>\n",
       "      <td>0.0244</td>\n",
       "      <td>0.0316</td>\n",
       "      <td>0.0164</td>\n",
       "      <td>0.0095</td>\n",
       "      <td>0.0078</td>\n",
       "      <td>R</td>\n",
       "    </tr>\n",
       "    <tr>\n",
       "      <th>3</th>\n",
       "      <td>0.0100</td>\n",
       "      <td>0.0171</td>\n",
       "      <td>0.0623</td>\n",
       "      <td>0.0205</td>\n",
       "      <td>0.0205</td>\n",
       "      <td>0.0368</td>\n",
       "      <td>0.1098</td>\n",
       "      <td>0.1276</td>\n",
       "      <td>0.0598</td>\n",
       "      <td>0.1264</td>\n",
       "      <td>...</td>\n",
       "      <td>0.0121</td>\n",
       "      <td>0.0036</td>\n",
       "      <td>0.0150</td>\n",
       "      <td>0.0085</td>\n",
       "      <td>0.0073</td>\n",
       "      <td>0.0050</td>\n",
       "      <td>0.0044</td>\n",
       "      <td>0.0040</td>\n",
       "      <td>0.0117</td>\n",
       "      <td>R</td>\n",
       "    </tr>\n",
       "    <tr>\n",
       "      <th>4</th>\n",
       "      <td>0.0762</td>\n",
       "      <td>0.0666</td>\n",
       "      <td>0.0481</td>\n",
       "      <td>0.0394</td>\n",
       "      <td>0.0590</td>\n",
       "      <td>0.0649</td>\n",
       "      <td>0.1209</td>\n",
       "      <td>0.2467</td>\n",
       "      <td>0.3564</td>\n",
       "      <td>0.4459</td>\n",
       "      <td>...</td>\n",
       "      <td>0.0031</td>\n",
       "      <td>0.0054</td>\n",
       "      <td>0.0105</td>\n",
       "      <td>0.0110</td>\n",
       "      <td>0.0015</td>\n",
       "      <td>0.0072</td>\n",
       "      <td>0.0048</td>\n",
       "      <td>0.0107</td>\n",
       "      <td>0.0094</td>\n",
       "      <td>R</td>\n",
       "    </tr>\n",
       "  </tbody>\n",
       "</table>\n",
       "<p>5 rows × 61 columns</p>\n",
       "</div>"
      ],
      "text/plain": [
       "       0       1       2       3       4       5       6       7       8   \\\n",
       "0  0.0200  0.0371  0.0428  0.0207  0.0954  0.0986  0.1539  0.1601  0.3109   \n",
       "1  0.0453  0.0523  0.0843  0.0689  0.1183  0.2583  0.2156  0.3481  0.3337   \n",
       "2  0.0262  0.0582  0.1099  0.1083  0.0974  0.2280  0.2431  0.3771  0.5598   \n",
       "3  0.0100  0.0171  0.0623  0.0205  0.0205  0.0368  0.1098  0.1276  0.0598   \n",
       "4  0.0762  0.0666  0.0481  0.0394  0.0590  0.0649  0.1209  0.2467  0.3564   \n",
       "\n",
       "       9   ...      51      52      53      54      55      56      57  \\\n",
       "0  0.2111  ...  0.0027  0.0065  0.0159  0.0072  0.0167  0.0180  0.0084   \n",
       "1  0.2872  ...  0.0084  0.0089  0.0048  0.0094  0.0191  0.0140  0.0049   \n",
       "2  0.6194  ...  0.0232  0.0166  0.0095  0.0180  0.0244  0.0316  0.0164   \n",
       "3  0.1264  ...  0.0121  0.0036  0.0150  0.0085  0.0073  0.0050  0.0044   \n",
       "4  0.4459  ...  0.0031  0.0054  0.0105  0.0110  0.0015  0.0072  0.0048   \n",
       "\n",
       "       58      59  60  \n",
       "0  0.0090  0.0032   R  \n",
       "1  0.0052  0.0044   R  \n",
       "2  0.0095  0.0078   R  \n",
       "3  0.0040  0.0117   R  \n",
       "4  0.0107  0.0094   R  \n",
       "\n",
       "[5 rows x 61 columns]"
      ]
     },
     "execution_count": 3,
     "metadata": {},
     "output_type": "execute_result"
    }
   ],
   "source": [
    "import pandas as pd\n",
    "df = pd.read_csv('data/sonar.csv', header=None)\n",
    "df.head()"
   ]
  },
  {
   "cell_type": "code",
   "execution_count": 4,
   "metadata": {},
   "outputs": [
    {
     "data": {
      "text/plain": [
       "M    111\n",
       "R     97\n",
       "Name: 60, dtype: int64"
      ]
     },
     "execution_count": 4,
     "metadata": {},
     "output_type": "execute_result"
    }
   ],
   "source": [
    "df[60].value_counts()"
   ]
  },
  {
   "cell_type": "code",
   "execution_count": 5,
   "metadata": {},
   "outputs": [],
   "source": [
    "# X data : scaling\n",
    "from sklearn.preprocessing import StandardScaler\n",
    "X_scaled = StandardScaler().fit_transform(df.iloc[:,:-1].values)"
   ]
  },
  {
   "cell_type": "code",
   "execution_count": 6,
   "metadata": {},
   "outputs": [],
   "source": [
    "# y data : label encoding\n",
    "from sklearn.preprocessing import LabelEncoder\n",
    "y_labeled = LabelEncoder().fit_transform(df[60].values)"
   ]
  },
  {
   "cell_type": "code",
   "execution_count": 7,
   "metadata": {},
   "outputs": [],
   "source": [
    "# data 분리\n",
    "from sklearn.model_selection import train_test_split\n",
    "X_train, X_test, y_train, y_test = train_test_split(\n",
    "    X_scaled, y_labeled, stratify=y_labeled, test_size=0.2, random_state=seed\n",
    ")"
   ]
  },
  {
   "cell_type": "markdown",
   "metadata": {},
   "source": [
    "#### 모델 정의/설정/학습/평가"
   ]
  },
  {
   "cell_type": "code",
   "execution_count": 8,
   "metadata": {},
   "outputs": [],
   "source": [
    "from tensorflow.keras.models import Sequential\n",
    "from tensorflow.keras.layers import Dense"
   ]
  },
  {
   "cell_type": "markdown",
   "metadata": {},
   "source": [
    "- Case 1) 은닉층 2개"
   ]
  },
  {
   "cell_type": "code",
   "execution_count": 9,
   "metadata": {},
   "outputs": [
    {
     "name": "stdout",
     "output_type": "stream",
     "text": [
      "Model: \"sequential\"\n",
      "_________________________________________________________________\n",
      " Layer (type)                Output Shape              Param #   \n",
      "=================================================================\n",
      " dense (Dense)               (None, 80)                4880      \n",
      "                                                                 \n",
      " dense_1 (Dense)             (None, 12)                972       \n",
      "                                                                 \n",
      " dense_2 (Dense)             (None, 1)                 13        \n",
      "                                                                 \n",
      "=================================================================\n",
      "Total params: 5865 (22.91 KB)\n",
      "Trainable params: 5865 (22.91 KB)\n",
      "Non-trainable params: 0 (0.00 Byte)\n",
      "_________________________________________________________________\n"
     ]
    }
   ],
   "source": [
    "model1 = Sequential([\n",
    "    Dense(80, input_dim=60, activation='relu'),\n",
    "    Dense(12, activation='relu'),\n",
    "    Dense(1, activation='sigmoid')\n",
    "])\n",
    "model1.summary()"
   ]
  },
  {
   "cell_type": "code",
   "execution_count": 10,
   "metadata": {},
   "outputs": [
    {
     "name": "stdout",
     "output_type": "stream",
     "text": [
      "2/2 [==============================] - 0s 4ms/step - loss: 0.4823 - accuracy: 0.8571\n"
     ]
    },
    {
     "data": {
      "text/plain": [
       "[0.48233163356781006, 0.8571428656578064]"
      ]
     },
     "execution_count": 10,
     "metadata": {},
     "output_type": "execute_result"
    }
   ],
   "source": [
    "model1.compile('adam', 'binary_crossentropy', metrics=['accuracy'])\n",
    "hist1 = model1.fit(X_train, y_train, validation_split=0.2,\n",
    "                   epochs=200, batch_size=100, verbose=0)\n",
    "model1.evaluate(X_test, y_test)"
   ]
  },
  {
   "cell_type": "code",
   "execution_count": 41,
   "metadata": {},
   "outputs": [],
   "source": [
    "# 은닉층 2, 파라미터, 정확도\n",
    "hl1, params1, acc1 = 2, 5865, 0.8571"
   ]
  },
  {
   "cell_type": "markdown",
   "metadata": {},
   "source": [
    "- Case 2) 은닉층 4개 : Dense가 4개"
   ]
  },
  {
   "cell_type": "code",
   "execution_count": 12,
   "metadata": {},
   "outputs": [
    {
     "name": "stdout",
     "output_type": "stream",
     "text": [
      "Model: \"sequential_1\"\n",
      "_________________________________________________________________\n",
      " Layer (type)                Output Shape              Param #   \n",
      "=================================================================\n",
      " dense_3 (Dense)             (None, 80)                4880      \n",
      "                                                                 \n",
      " dense_4 (Dense)             (None, 48)                3888      \n",
      "                                                                 \n",
      " dense_5 (Dense)             (None, 20)                980       \n",
      "                                                                 \n",
      " dense_6 (Dense)             (None, 8)                 168       \n",
      "                                                                 \n",
      " dense_7 (Dense)             (None, 1)                 9         \n",
      "                                                                 \n",
      "=================================================================\n",
      "Total params: 9925 (38.77 KB)\n",
      "Trainable params: 9925 (38.77 KB)\n",
      "Non-trainable params: 0 (0.00 Byte)\n",
      "_________________________________________________________________\n"
     ]
    }
   ],
   "source": [
    "model2 = Sequential([\n",
    "    Dense(80, input_dim=60, activation='relu'),\n",
    "    Dense(48, activation='relu'),\n",
    "    Dense(20, activation='relu'),\n",
    "    Dense(8, activation='relu'),\n",
    "    Dense(1, activation='sigmoid')\n",
    "])\n",
    "model2.summary()"
   ]
  },
  {
   "cell_type": "code",
   "execution_count": 13,
   "metadata": {},
   "outputs": [
    {
     "name": "stdout",
     "output_type": "stream",
     "text": [
      "2/2 [==============================] - 0s 3ms/step - loss: 0.5671 - accuracy: 0.9286\n"
     ]
    },
    {
     "data": {
      "text/plain": [
       "[0.5670671463012695, 0.9285714030265808]"
      ]
     },
     "execution_count": 13,
     "metadata": {},
     "output_type": "execute_result"
    }
   ],
   "source": [
    "model2.compile('adam', 'binary_crossentropy', metrics=['accuracy'])\n",
    "hist2 = model2.fit(X_train, y_train, validation_split=0.2,\n",
    "                   epochs=200, batch_size=100, verbose=0)\n",
    "model2.evaluate(X_test, y_test)"
   ]
  },
  {
   "cell_type": "code",
   "execution_count": 42,
   "metadata": {},
   "outputs": [],
   "source": [
    "# hl : hidden layer, params : layer에 쓰인 파라메터를 다 더함.\n",
    "hl2, params2, acc2 = 4, 9925, 0.9286"
   ]
  },
  {
   "cell_type": "markdown",
   "metadata": {},
   "source": [
    "- Case3) 은닉층 6개"
   ]
  },
  {
   "cell_type": "code",
   "execution_count": 15,
   "metadata": {},
   "outputs": [
    {
     "name": "stdout",
     "output_type": "stream",
     "text": [
      "Model: \"sequential_2\"\n",
      "_________________________________________________________________\n",
      " Layer (type)                Output Shape              Param #   \n",
      "=================================================================\n",
      " dense_8 (Dense)             (None, 80)                4880      \n",
      "                                                                 \n",
      " dense_9 (Dense)             (None, 64)                5184      \n",
      "                                                                 \n",
      " dense_10 (Dense)            (None, 40)                2600      \n",
      "                                                                 \n",
      " dense_11 (Dense)            (None, 24)                984       \n",
      "                                                                 \n",
      " dense_12 (Dense)            (None, 10)                250       \n",
      "                                                                 \n",
      " dense_13 (Dense)            (None, 4)                 44        \n",
      "                                                                 \n",
      " dense_14 (Dense)            (None, 1)                 5         \n",
      "                                                                 \n",
      "=================================================================\n",
      "Total params: 13947 (54.48 KB)\n",
      "Trainable params: 13947 (54.48 KB)\n",
      "Non-trainable params: 0 (0.00 Byte)\n",
      "_________________________________________________________________\n"
     ]
    }
   ],
   "source": [
    "model3 = Sequential([\n",
    "    Dense(80, input_dim=60, activation='relu'),\n",
    "    Dense(64, activation='relu'),\n",
    "    Dense(40, activation='relu'),\n",
    "    Dense(24, activation='relu'),\n",
    "    Dense(10, activation='relu'),\n",
    "    Dense(4, activation='relu'),\n",
    "    Dense(1, activation='sigmoid')\n",
    "])\n",
    "model3.summary()"
   ]
  },
  {
   "cell_type": "code",
   "execution_count": 16,
   "metadata": {},
   "outputs": [
    {
     "name": "stdout",
     "output_type": "stream",
     "text": [
      "2/2 [==============================] - 0s 5ms/step - loss: 0.8801 - accuracy: 0.8333\n"
     ]
    },
    {
     "data": {
      "text/plain": [
       "[0.8800902366638184, 0.8333333134651184]"
      ]
     },
     "execution_count": 16,
     "metadata": {},
     "output_type": "execute_result"
    }
   ],
   "source": [
    "model3.compile('adam', 'binary_crossentropy', metrics=['accuracy'])\n",
    "hist3 = model3.fit(X_train, y_train, validation_split=0.2,\n",
    "                   epochs=200, batch_size=100, verbose=0)\n",
    "model3.evaluate(X_test, y_test)"
   ]
  },
  {
   "cell_type": "code",
   "execution_count": 43,
   "metadata": {},
   "outputs": [],
   "source": [
    "hl3, params3, acc3 = 6, 13947, 0.8333"
   ]
  },
  {
   "cell_type": "markdown",
   "metadata": {},
   "source": [
    "- Case 4) 은닉층 8개"
   ]
  },
  {
   "cell_type": "code",
   "execution_count": 18,
   "metadata": {},
   "outputs": [
    {
     "name": "stdout",
     "output_type": "stream",
     "text": [
      "Model: \"sequential_3\"\n",
      "_________________________________________________________________\n",
      " Layer (type)                Output Shape              Param #   \n",
      "=================================================================\n",
      " dense_15 (Dense)            (None, 80)                4880      \n",
      "                                                                 \n",
      " dense_16 (Dense)            (None, 64)                5184      \n",
      "                                                                 \n",
      " dense_17 (Dense)            (None, 48)                3120      \n",
      "                                                                 \n",
      " dense_18 (Dense)            (None, 34)                1666      \n",
      "                                                                 \n",
      " dense_19 (Dense)            (None, 24)                840       \n",
      "                                                                 \n",
      " dense_20 (Dense)            (None, 16)                400       \n",
      "                                                                 \n",
      " dense_21 (Dense)            (None, 10)                170       \n",
      "                                                                 \n",
      " dense_22 (Dense)            (None, 4)                 44        \n",
      "                                                                 \n",
      " dense_23 (Dense)            (None, 1)                 5         \n",
      "                                                                 \n",
      "=================================================================\n",
      "Total params: 16309 (63.71 KB)\n",
      "Trainable params: 16309 (63.71 KB)\n",
      "Non-trainable params: 0 (0.00 Byte)\n",
      "_________________________________________________________________\n"
     ]
    }
   ],
   "source": [
    "model4 = Sequential([\n",
    "    Dense(80, input_dim=60, activation='relu'),\n",
    "    Dense(64, activation='relu'),\n",
    "    Dense(48, activation='relu'),\n",
    "    Dense(34, activation='relu'),\n",
    "    Dense(24, activation='relu'),\n",
    "    Dense(16, activation='relu'),\n",
    "    Dense(10, activation='relu'),\n",
    "    Dense(4, activation='relu'),\n",
    "    Dense(1, activation='sigmoid')\n",
    "])\n",
    "model4.summary()"
   ]
  },
  {
   "cell_type": "code",
   "execution_count": 19,
   "metadata": {},
   "outputs": [
    {
     "name": "stdout",
     "output_type": "stream",
     "text": [
      "2/2 [==============================] - 0s 4ms/step - loss: 0.6846 - accuracy: 0.8571\n"
     ]
    },
    {
     "data": {
      "text/plain": [
       "[0.6845517158508301, 0.8571428656578064]"
      ]
     },
     "execution_count": 19,
     "metadata": {},
     "output_type": "execute_result"
    }
   ],
   "source": [
    "model4.compile('adam', 'binary_crossentropy', metrics=['accuracy'])\n",
    "hist4 = model4.fit(X_train, y_train, validation_split=0.2,\n",
    "                   epochs=200, batch_size=100, verbose=0)\n",
    "model4.evaluate(X_test, y_test)"
   ]
  },
  {
   "cell_type": "code",
   "execution_count": 44,
   "metadata": {},
   "outputs": [],
   "source": [
    "hl4, params4, acc4 = 8, 16309, 0.8571"
   ]
  },
  {
   "cell_type": "markdown",
   "metadata": {},
   "source": [
    "- 케이스 비교"
   ]
  },
  {
   "cell_type": "code",
   "execution_count": 46,
   "metadata": {},
   "outputs": [
    {
     "data": {
      "text/html": [
       "<div>\n",
       "<style scoped>\n",
       "    .dataframe tbody tr th:only-of-type {\n",
       "        vertical-align: middle;\n",
       "    }\n",
       "\n",
       "    .dataframe tbody tr th {\n",
       "        vertical-align: top;\n",
       "    }\n",
       "\n",
       "    .dataframe thead th {\n",
       "        text-align: right;\n",
       "    }\n",
       "</style>\n",
       "<table border=\"1\" class=\"dataframe\">\n",
       "  <thead>\n",
       "    <tr style=\"text-align: right;\">\n",
       "      <th></th>\n",
       "      <th>은닉층 갯수</th>\n",
       "      <th>파라메터 갯수</th>\n",
       "      <th>정확도</th>\n",
       "    </tr>\n",
       "  </thead>\n",
       "  <tbody>\n",
       "    <tr>\n",
       "      <th>0</th>\n",
       "      <td>2</td>\n",
       "      <td>5865</td>\n",
       "      <td>0.8571</td>\n",
       "    </tr>\n",
       "    <tr>\n",
       "      <th>1</th>\n",
       "      <td>4</td>\n",
       "      <td>9925</td>\n",
       "      <td>0.9286</td>\n",
       "    </tr>\n",
       "    <tr>\n",
       "      <th>2</th>\n",
       "      <td>6</td>\n",
       "      <td>13947</td>\n",
       "      <td>0.8333</td>\n",
       "    </tr>\n",
       "    <tr>\n",
       "      <th>3</th>\n",
       "      <td>8</td>\n",
       "      <td>16309</td>\n",
       "      <td>0.8571</td>\n",
       "    </tr>\n",
       "  </tbody>\n",
       "</table>\n",
       "</div>"
      ],
      "text/plain": [
       "   은닉층 갯수  파라메터 갯수     정확도\n",
       "0       2     5865  0.8571\n",
       "1       4     9925  0.9286\n",
       "2       6    13947  0.8333\n",
       "3       8    16309  0.8571"
      ]
     },
     "execution_count": 46,
     "metadata": {},
     "output_type": "execute_result"
    }
   ],
   "source": [
    "rf = pd.DataFrame({\n",
    "    '은닉층 갯수':[hl1, hl2, hl3, hl4],\n",
    "    '파라메터 갯수':[params1, params2, params3, params4],\n",
    "    '정확도':[acc1, acc2, acc3, acc4],\n",
    "    })\n",
    "rf"
   ]
  },
  {
   "cell_type": "markdown",
   "metadata": {},
   "source": [
    "- 학습과정 시각화"
   ]
  },
  {
   "cell_type": "code",
   "execution_count": 22,
   "metadata": {},
   "outputs": [],
   "source": [
    "y_acc1 = hist1.history['accuracy']\n",
    "y_acc2 = hist2.history['accuracy']\n",
    "y_acc3 = hist3.history['accuracy']\n",
    "y_acc4 = hist4.history['accuracy']\n",
    "y_vloss1 = hist1.history['val_loss']\n",
    "y_vloss2 = hist2.history['val_loss']\n",
    "y_vloss3 = hist3.history['val_loss']\n",
    "y_vloss4 = hist4.history['val_loss']\n",
    "xs = np.arange(1, len(y_acc1)+1)"
   ]
  },
  {
   "cell_type": "code",
   "execution_count": 23,
   "metadata": {},
   "outputs": [
    {
     "data": {
      "image/png": "[encoded data removed]",
      "text/plain": [
       "<Figure size 1200x600 with 1 Axes>"
      ]
     },
     "metadata": {},
     "output_type": "display_data"
    }
   ],
   "source": [
    "plt.figure(figsize=(12, 6))\n",
    "plt.plot(xs, y_acc1, label='case 1')\n",
    "plt.plot(xs, y_acc2, label='case 2')\n",
    "plt.plot(xs, y_acc3, label='case 3')\n",
    "plt.plot(xs, y_acc4, label='case 4')\n",
    "plt.legend(), plt.grid(), plt.xlabel('epoch')\n",
    "plt.title('Trainset Accuracy')\n",
    "plt.show()"
   ]
  },
  {
   "cell_type": "code",
   "execution_count": 24,
   "metadata": {},
   "outputs": [
    {
     "data": {
      "image/png": "[encoded data removed]",
      "text/plain": [
       "<Figure size 1200x600 with 1 Axes>"
      ]
     },
     "metadata": {},
     "output_type": "display_data"
    }
   ],
   "source": [
    "plt.figure(figsize=(12, 6))\n",
    "plt.plot(xs, y_vloss1, label='case 1')\n",
    "plt.plot(xs, y_vloss2, label='case 2')\n",
    "plt.plot(xs, y_vloss3, label='case 3')\n",
    "plt.plot(xs, y_vloss4, label='case 4')\n",
    "plt.legend(), plt.grid(), plt.xlabel('epoch')\n",
    "plt.title('Validset Loss')\n",
    "plt.show()"
   ]
  },
  {
   "cell_type": "markdown",
   "metadata": {},
   "source": [
    "#### Best Model 만들어 저장하고 사용하기"
   ]
  },
  {
   "cell_type": "markdown",
   "metadata": {},
   "source": [
    "- Case 1) 은닉층 2개"
   ]
  },
  {
   "cell_type": "code",
   "execution_count": 25,
   "metadata": {},
   "outputs": [
    {
     "name": "stdout",
     "output_type": "stream",
     "text": [
      "Model: \"sequential_4\"\n",
      "_________________________________________________________________\n",
      " Layer (type)                Output Shape              Param #   \n",
      "=================================================================\n",
      " dense_24 (Dense)            (None, 80)                4880      \n",
      "                                                                 \n",
      " dense_25 (Dense)            (None, 12)                972       \n",
      "                                                                 \n",
      " dense_26 (Dense)            (None, 1)                 13        \n",
      "                                                                 \n",
      "=================================================================\n",
      "Total params: 5865 (22.91 KB)\n",
      "Trainable params: 5865 (22.91 KB)\n",
      "Non-trainable params: 0 (0.00 Byte)\n",
      "_________________________________________________________________\n"
     ]
    }
   ],
   "source": [
    "model1b = Sequential([\n",
    "    Dense(80, input_dim=60, activation='relu'),\n",
    "    Dense(12, activation='relu'),\n",
    "    Dense(1, activation='sigmoid')\n",
    "])\n",
    "model1b.summary()"
   ]
  },
  {
   "cell_type": "code",
   "execution_count": 26,
   "metadata": {},
   "outputs": [],
   "source": [
    "model1b.compile('adam', 'binary_crossentropy', metrics=['accuracy'])"
   ]
  },
  {
   "cell_type": "code",
   "execution_count": 27,
   "metadata": {},
   "outputs": [],
   "source": [
    "# best model만 저장하는 callback 함수\n",
    "from tensorflow.keras.callbacks import ModelCheckpoint\n",
    "mc1 = ModelCheckpoint('models/sonar_best1.h5', monitor='val_loss', \n",
    "                      verbose=1, save_best_only=True)       # 좋은 놈이 오면 overwrite"
   ]
  },
  {
   "cell_type": "code",
   "execution_count": 28,
   "metadata": {},
   "outputs": [
    {
     "name": "stdout",
     "output_type": "stream",
     "text": [
      "\n",
      "Epoch 1: val_loss improved from inf to 0.67603, saving model to models\\sonar_best1.h5\n",
      "\n",
      "Epoch 2: val_loss improved from 0.67603 to 0.63537, saving model to models\\sonar_best1.h5\n",
      "\n",
      "Epoch 3: val_loss improved from 0.63537 to 0.60257, saving model to models\\sonar_best1.h5\n",
      "\n",
      "Epoch 4: val_loss improved from 0.60257 to 0.57714, saving model to models\\sonar_best1.h5\n",
      "\n",
      "Epoch 5: val_loss improved from 0.57714 to 0.55709, saving model to models\\sonar_best1.h5\n",
      "\n",
      "Epoch 6: val_loss improved from 0.55709 to 0.53899, saving model to models\\sonar_best1.h5\n",
      "\n",
      "Epoch 7: val_loss improved from 0.53899 to 0.52249, saving model to models\\sonar_best1.h5\n",
      "\n",
      "Epoch 8: val_loss improved from 0.52249 to 0.50846, saving model to models\\sonar_best1.h5\n",
      "\n",
      "Epoch 9: val_loss improved from 0.50846 to 0.49595, saving model to models\\sonar_best1.h5\n",
      "\n",
      "Epoch 10: val_loss improved from 0.49595 to 0.48501, saving model to models\\sonar_best1.h5\n",
      "\n",
      "Epoch 11: val_loss improved from 0.48501 to 0.47595, saving model to models\\sonar_best1.h5\n",
      "\n",
      "Epoch 12: val_loss improved from 0.47595 to 0.46739, saving model to models\\sonar_best1.h5\n",
      "\n",
      "Epoch 13: val_loss improved from 0.46739 to 0.45975, saving model to models\\sonar_best1.h5\n",
      "\n",
      "Epoch 14: val_loss improved from 0.45975 to 0.45202, saving model to models\\sonar_best1.h5\n",
      "\n",
      "Epoch 15: val_loss improved from 0.45202 to 0.44476, saving model to models\\sonar_best1.h5\n",
      "\n",
      "Epoch 16: val_loss improved from 0.44476 to 0.43796, saving model to models\\sonar_best1.h5\n",
      "\n",
      "Epoch 17: val_loss improved from 0.43796 to 0.43024, saving model to models\\sonar_best1.h5\n",
      "\n",
      "Epoch 18: val_loss improved from 0.43024 to 0.42179, saving model to models\\sonar_best1.h5\n",
      "\n",
      "Epoch 19: val_loss improved from 0.42179 to 0.41469, saving model to models\\sonar_best1.h5\n",
      "\n",
      "Epoch 20: val_loss improved from 0.41469 to 0.40828, saving model to models\\sonar_best1.h5\n",
      "\n",
      "Epoch 21: val_loss improved from 0.40828 to 0.40216, saving model to models\\sonar_best1.h5\n",
      "\n",
      "Epoch 22: val_loss improved from 0.40216 to 0.39646, saving model to models\\sonar_best1.h5\n",
      "\n",
      "Epoch 23: val_loss improved from 0.39646 to 0.39133, saving model to models\\sonar_best1.h5\n",
      "\n",
      "Epoch 24: val_loss improved from 0.39133 to 0.38591, saving model to models\\sonar_best1.h5\n",
      "\n",
      "Epoch 25: val_loss improved from 0.38591 to 0.37983, saving model to models\\sonar_best1.h5\n",
      "\n",
      "Epoch 26: val_loss improved from 0.37983 to 0.37408, saving model to models\\sonar_best1.h5\n",
      "\n",
      "Epoch 27: val_loss improved from 0.37408 to 0.36831, saving model to models\\sonar_best1.h5\n",
      "\n",
      "Epoch 28: val_loss improved from 0.36831 to 0.36284, saving model to models\\sonar_best1.h5\n",
      "\n",
      "Epoch 29: val_loss improved from 0.36284 to 0.35941, saving model to models\\sonar_best1.h5\n",
      "\n",
      "Epoch 30: val_loss improved from 0.35941 to 0.35577, saving model to models\\sonar_best1.h5\n",
      "\n",
      "Epoch 31: val_loss improved from 0.35577 to 0.35189, saving model to models\\sonar_best1.h5\n",
      "\n",
      "Epoch 32: val_loss improved from 0.35189 to 0.34730, saving model to models\\sonar_best1.h5\n",
      "\n",
      "Epoch 33: val_loss improved from 0.34730 to 0.34180, saving model to models\\sonar_best1.h5\n",
      "\n",
      "Epoch 34: val_loss improved from 0.34180 to 0.33555, saving model to models\\sonar_best1.h5\n",
      "\n",
      "Epoch 35: val_loss improved from 0.33555 to 0.32943, saving model to models\\sonar_best1.h5\n",
      "\n",
      "Epoch 36: val_loss improved from 0.32943 to 0.32340, saving model to models\\sonar_best1.h5\n",
      "\n",
      "Epoch 37: val_loss improved from 0.32340 to 0.31777, saving model to models\\sonar_best1.h5\n",
      "\n",
      "Epoch 38: val_loss improved from 0.31777 to 0.31361, saving model to models\\sonar_best1.h5\n",
      "\n",
      "Epoch 39: val_loss improved from 0.31361 to 0.31050, saving model to models\\sonar_best1.h5\n",
      "\n",
      "Epoch 40: val_loss improved from 0.31050 to 0.30802, saving model to models\\sonar_best1.h5\n",
      "\n",
      "Epoch 41: val_loss improved from 0.30802 to 0.30585, saving model to models\\sonar_best1.h5\n",
      "\n",
      "Epoch 42: val_loss improved from 0.30585 to 0.30437, saving model to models\\sonar_best1.h5\n",
      "\n",
      "Epoch 43: val_loss improved from 0.30437 to 0.30251, saving model to models\\sonar_best1.h5\n",
      "\n",
      "Epoch 44: val_loss improved from 0.30251 to 0.29964, saving model to models\\sonar_best1.h5\n",
      "\n",
      "Epoch 45: val_loss improved from 0.29964 to 0.29660, saving model to models\\sonar_best1.h5\n",
      "\n",
      "Epoch 46: val_loss improved from 0.29660 to 0.29301, saving model to models\\sonar_best1.h5\n",
      "\n",
      "Epoch 47: val_loss improved from 0.29301 to 0.28890, saving model to models\\sonar_best1.h5\n",
      "\n",
      "Epoch 48: val_loss improved from 0.28890 to 0.28535, saving model to models\\sonar_best1.h5\n",
      "\n",
      "Epoch 49: val_loss improved from 0.28535 to 0.28239, saving model to models\\sonar_best1.h5\n",
      "\n",
      "Epoch 50: val_loss improved from 0.28239 to 0.27917, saving model to models\\sonar_best1.h5\n",
      "\n",
      "Epoch 51: val_loss improved from 0.27917 to 0.27577, saving model to models\\sonar_best1.h5\n",
      "\n",
      "Epoch 52: val_loss improved from 0.27577 to 0.27287, saving model to models\\sonar_best1.h5\n",
      "\n",
      "Epoch 53: val_loss improved from 0.27287 to 0.26997, saving model to models\\sonar_best1.h5\n",
      "\n",
      "Epoch 54: val_loss improved from 0.26997 to 0.26735, saving model to models\\sonar_best1.h5\n",
      "\n",
      "Epoch 55: val_loss improved from 0.26735 to 0.26539, saving model to models\\sonar_best1.h5\n",
      "\n",
      "Epoch 56: val_loss improved from 0.26539 to 0.26400, saving model to models\\sonar_best1.h5\n",
      "\n",
      "Epoch 57: val_loss improved from 0.26400 to 0.26327, saving model to models\\sonar_best1.h5\n",
      "\n",
      "Epoch 58: val_loss improved from 0.26327 to 0.26299, saving model to models\\sonar_best1.h5\n",
      "\n",
      "Epoch 59: val_loss improved from 0.26299 to 0.26243, saving model to models\\sonar_best1.h5\n",
      "\n",
      "Epoch 60: val_loss improved from 0.26243 to 0.26212, saving model to models\\sonar_best1.h5\n",
      "\n",
      "Epoch 61: val_loss did not improve from 0.26212\n",
      "\n",
      "Epoch 62: val_loss did not improve from 0.26212\n",
      "\n",
      "Epoch 63: val_loss did not improve from 0.26212\n",
      "\n",
      "Epoch 64: val_loss did not improve from 0.26212\n",
      "\n",
      "Epoch 65: val_loss did not improve from 0.26212\n",
      "\n",
      "Epoch 66: val_loss improved from 0.26212 to 0.26173, saving model to models\\sonar_best1.h5\n",
      "\n",
      "Epoch 67: val_loss improved from 0.26173 to 0.26063, saving model to models\\sonar_best1.h5\n",
      "\n",
      "Epoch 68: val_loss improved from 0.26063 to 0.25914, saving model to models\\sonar_best1.h5\n",
      "\n",
      "Epoch 69: val_loss improved from 0.25914 to 0.25816, saving model to models\\sonar_best1.h5\n",
      "\n",
      "Epoch 70: val_loss improved from 0.25816 to 0.25744, saving model to models\\sonar_best1.h5\n",
      "\n",
      "Epoch 71: val_loss improved from 0.25744 to 0.25722, saving model to models\\sonar_best1.h5\n",
      "\n",
      "Epoch 72: val_loss did not improve from 0.25722\n",
      "\n",
      "Epoch 73: val_loss improved from 0.25722 to 0.25690, saving model to models\\sonar_best1.h5\n",
      "\n",
      "Epoch 74: val_loss improved from 0.25690 to 0.25561, saving model to models\\sonar_best1.h5\n",
      "\n",
      "Epoch 75: val_loss improved from 0.25561 to 0.25418, saving model to models\\sonar_best1.h5\n",
      "\n",
      "Epoch 76: val_loss improved from 0.25418 to 0.25344, saving model to models\\sonar_best1.h5\n",
      "\n",
      "Epoch 77: val_loss improved from 0.25344 to 0.25234, saving model to models\\sonar_best1.h5\n",
      "\n",
      "Epoch 78: val_loss improved from 0.25234 to 0.25096, saving model to models\\sonar_best1.h5\n",
      "\n",
      "Epoch 79: val_loss improved from 0.25096 to 0.24959, saving model to models\\sonar_best1.h5\n",
      "\n",
      "Epoch 80: val_loss improved from 0.24959 to 0.24881, saving model to models\\sonar_best1.h5\n",
      "\n",
      "Epoch 81: val_loss improved from 0.24881 to 0.24853, saving model to models\\sonar_best1.h5\n",
      "\n",
      "Epoch 82: val_loss improved from 0.24853 to 0.24806, saving model to models\\sonar_best1.h5\n",
      "\n",
      "Epoch 83: val_loss did not improve from 0.24806\n",
      "\n",
      "Epoch 84: val_loss did not improve from 0.24806\n",
      "\n",
      "Epoch 85: val_loss did not improve from 0.24806\n",
      "\n",
      "Epoch 86: val_loss did not improve from 0.24806\n",
      "\n",
      "Epoch 87: val_loss did not improve from 0.24806\n",
      "\n",
      "Epoch 88: val_loss did not improve from 0.24806\n",
      "\n",
      "Epoch 89: val_loss did not improve from 0.24806\n",
      "\n",
      "Epoch 90: val_loss did not improve from 0.24806\n",
      "\n",
      "Epoch 91: val_loss did not improve from 0.24806\n",
      "\n",
      "Epoch 92: val_loss did not improve from 0.24806\n",
      "\n",
      "Epoch 93: val_loss did not improve from 0.24806\n",
      "\n",
      "Epoch 94: val_loss did not improve from 0.24806\n",
      "\n",
      "Epoch 95: val_loss did not improve from 0.24806\n",
      "\n",
      "Epoch 96: val_loss did not improve from 0.24806\n",
      "\n",
      "Epoch 97: val_loss did not improve from 0.24806\n",
      "\n",
      "Epoch 98: val_loss did not improve from 0.24806\n",
      "\n",
      "Epoch 99: val_loss did not improve from 0.24806\n",
      "\n",
      "Epoch 100: val_loss improved from 0.24806 to 0.24644, saving model to models\\sonar_best1.h5\n"
     ]
    }
   ],
   "source": [
    "# epoch가 종료될 때 마다 callback 함수를 실행하도록 설정\n",
    "hist1 = model1b.fit(X_train, y_train, validation_split=0.2,\n",
    "                    epochs=100, batch_size=100, verbose=0,\n",
    "                    callbacks=[mc1])"
   ]
  },
  {
   "cell_type": "code",
   "execution_count": 29,
   "metadata": {},
   "outputs": [
    {
     "name": "stdout",
     "output_type": "stream",
     "text": [
      "2/2 [==============================] - 0s 4ms/step - loss: 0.3236 - accuracy: 0.8810\n"
     ]
    },
    {
     "data": {
      "text/plain": [
       "[0.323556512594223, 0.8809523582458496]"
      ]
     },
     "execution_count": 29,
     "metadata": {},
     "output_type": "execute_result"
    }
   ],
   "source": [
    "# best model 불러와서 평가하기\n",
    "from tensorflow.keras.models import load_model\n",
    "\n",
    "best_model1 = load_model('models/sonar_best1.h5')\n",
    "best_model1.evaluate(X_test, y_test)"
   ]
  },
  {
   "cell_type": "code",
   "execution_count": 47,
   "metadata": {},
   "outputs": [],
   "source": [
    "best_score = [0.8810]"
   ]
  },
  {
   "cell_type": "markdown",
   "metadata": {},
   "source": [
    "- Case 2) 은닉층 4개"
   ]
  },
  {
   "cell_type": "code",
   "execution_count": 31,
   "metadata": {},
   "outputs": [],
   "source": [
    "model2b = Sequential([\n",
    "    Dense(80, input_dim=60, activation='relu'),\n",
    "    Dense(48, activation='relu'),\n",
    "    Dense(20, activation='relu'),\n",
    "    Dense(8, activation='relu'),\n",
    "    Dense(1, activation='sigmoid')\n",
    "])"
   ]
  },
  {
   "cell_type": "code",
   "execution_count": 32,
   "metadata": {},
   "outputs": [
    {
     "name": "stdout",
     "output_type": "stream",
     "text": [
      "2/2 [==============================] - 0s 4ms/step - loss: 0.3409 - accuracy: 0.8810\n"
     ]
    },
    {
     "data": {
      "text/plain": [
       "[0.340927392244339, 0.8809523582458496]"
      ]
     },
     "execution_count": 32,
     "metadata": {},
     "output_type": "execute_result"
    }
   ],
   "source": [
    "model2b.compile('adam', 'binary_crossentropy', metrics=['accuracy'])\n",
    "mc2 = ModelCheckpoint('models/sonar_best2.h5', monitor='val_loss', \n",
    "                      verbose=0, save_best_only=True)\n",
    "hist2 = model2b.fit(X_train, y_train, validation_split=0.2,\n",
    "                    epochs=100, batch_size=100, verbose=0,\n",
    "                    callbacks=[mc2])\n",
    "best_model2 = load_model('models/sonar_best2.h5')\n",
    "best_model2.evaluate(X_test, y_test)"
   ]
  },
  {
   "cell_type": "code",
   "execution_count": 48,
   "metadata": {},
   "outputs": [],
   "source": [
    "best_score.append(0.8810)"
   ]
  },
  {
   "cell_type": "markdown",
   "metadata": {},
   "source": [
    "- Case 3) 은닉층 6개"
   ]
  },
  {
   "cell_type": "code",
   "execution_count": 34,
   "metadata": {},
   "outputs": [],
   "source": [
    "model3b = Sequential([\n",
    "    Dense(80, input_dim=60, activation='relu'),\n",
    "    Dense(64, activation='relu'),\n",
    "    Dense(40, activation='relu'),\n",
    "    Dense(24, activation='relu'),\n",
    "    Dense(10, activation='relu'),\n",
    "    Dense(4, activation='relu'),\n",
    "    Dense(1, activation='sigmoid')\n",
    "])"
   ]
  },
  {
   "cell_type": "code",
   "execution_count": 35,
   "metadata": {},
   "outputs": [
    {
     "name": "stdout",
     "output_type": "stream",
     "text": [
      "2/2 [==============================] - 0s 5ms/step - loss: 0.5587 - accuracy: 0.8333\n"
     ]
    },
    {
     "data": {
      "text/plain": [
       "[0.5587007403373718, 0.8333333134651184]"
      ]
     },
     "execution_count": 35,
     "metadata": {},
     "output_type": "execute_result"
    }
   ],
   "source": [
    "model3b.compile('adam', 'binary_crossentropy', metrics=['accuracy'])\n",
    "mc3 = ModelCheckpoint('models/sonar_best3.h5', monitor='val_loss', \n",
    "                      verbose=0, save_best_only=True)\n",
    "hist3 = model3b.fit(X_train, y_train, validation_split=0.2,\n",
    "                    epochs=100, batch_size=100, verbose=0,\n",
    "                    callbacks=[mc3])\n",
    "best_model3 = load_model('models/sonar_best3.h5')\n",
    "best_model3.evaluate(X_test, y_test)"
   ]
  },
  {
   "cell_type": "code",
   "execution_count": 49,
   "metadata": {},
   "outputs": [],
   "source": [
    "best_score.append(0.8333)"
   ]
  },
  {
   "cell_type": "markdown",
   "metadata": {},
   "source": [
    "- Case 4) 은닉층 8개"
   ]
  },
  {
   "cell_type": "code",
   "execution_count": 37,
   "metadata": {},
   "outputs": [],
   "source": [
    "model4b = Sequential([\n",
    "    Dense(80, input_dim=60, activation='relu'),\n",
    "    Dense(64, activation='relu'),\n",
    "    Dense(48, activation='relu'),\n",
    "    Dense(34, activation='relu'),\n",
    "    Dense(24, activation='relu'),\n",
    "    Dense(16, activation='relu'),\n",
    "    Dense(10, activation='relu'),\n",
    "    Dense(4, activation='relu'),\n",
    "    Dense(1, activation='sigmoid')\n",
    "])"
   ]
  },
  {
   "cell_type": "code",
   "execution_count": 38,
   "metadata": {},
   "outputs": [
    {
     "name": "stdout",
     "output_type": "stream",
     "text": [
      "2/2 [==============================] - 0s 5ms/step - loss: 0.5304 - accuracy: 0.8095\n"
     ]
    },
    {
     "data": {
      "text/plain": [
       "[0.5304061770439148, 0.8095238208770752]"
      ]
     },
     "execution_count": 38,
     "metadata": {},
     "output_type": "execute_result"
    }
   ],
   "source": [
    "model4b.compile('adam', 'binary_crossentropy', metrics=['accuracy'])\n",
    "mc4 = ModelCheckpoint('models/sonar_best4.h5', monitor='val_loss', \n",
    "                      verbose=0, save_best_only=True)\n",
    "hist4 = model4b.fit(X_train, y_train, validation_split=0.2,\n",
    "                    epochs=100, batch_size=100, verbose=0,\n",
    "                    callbacks=[mc4])\n",
    "best_model4 = load_model('models/sonar_best4.h5')\n",
    "best_model4.evaluate(X_test, y_test)"
   ]
  },
  {
   "cell_type": "code",
   "execution_count": 50,
   "metadata": {},
   "outputs": [],
   "source": [
    "best_score.append(0.8095)"
   ]
  },
  {
   "cell_type": "markdown",
   "metadata": {},
   "source": [
    "- case 비교"
   ]
  },
  {
   "cell_type": "code",
   "execution_count": 51,
   "metadata": {},
   "outputs": [
    {
     "data": {
      "text/html": [
       "<div>\n",
       "<style scoped>\n",
       "    .dataframe tbody tr th:only-of-type {\n",
       "        vertical-align: middle;\n",
       "    }\n",
       "\n",
       "    .dataframe tbody tr th {\n",
       "        vertical-align: top;\n",
       "    }\n",
       "\n",
       "    .dataframe thead th {\n",
       "        text-align: right;\n",
       "    }\n",
       "</style>\n",
       "<table border=\"1\" class=\"dataframe\">\n",
       "  <thead>\n",
       "    <tr style=\"text-align: right;\">\n",
       "      <th></th>\n",
       "      <th>은닉층 갯수</th>\n",
       "      <th>파라메터 갯수</th>\n",
       "      <th>정확도</th>\n",
       "      <th>best model</th>\n",
       "    </tr>\n",
       "  </thead>\n",
       "  <tbody>\n",
       "    <tr>\n",
       "      <th>0</th>\n",
       "      <td>2</td>\n",
       "      <td>5865</td>\n",
       "      <td>0.8571</td>\n",
       "      <td>0.8810</td>\n",
       "    </tr>\n",
       "    <tr>\n",
       "      <th>1</th>\n",
       "      <td>4</td>\n",
       "      <td>9925</td>\n",
       "      <td>0.9286</td>\n",
       "      <td>0.8810</td>\n",
       "    </tr>\n",
       "    <tr>\n",
       "      <th>2</th>\n",
       "      <td>6</td>\n",
       "      <td>13947</td>\n",
       "      <td>0.8333</td>\n",
       "      <td>0.8333</td>\n",
       "    </tr>\n",
       "    <tr>\n",
       "      <th>3</th>\n",
       "      <td>8</td>\n",
       "      <td>16309</td>\n",
       "      <td>0.8571</td>\n",
       "      <td>0.8095</td>\n",
       "    </tr>\n",
       "  </tbody>\n",
       "</table>\n",
       "</div>"
      ],
      "text/plain": [
       "   은닉층 갯수  파라메터 갯수     정확도  best model\n",
       "0       2     5865  0.8571      0.8810\n",
       "1       4     9925  0.9286      0.8810\n",
       "2       6    13947  0.8333      0.8333\n",
       "3       8    16309  0.8571      0.8095"
      ]
     },
     "execution_count": 51,
     "metadata": {},
     "output_type": "execute_result"
    }
   ],
   "source": [
    "rf['best model'] = best_score\n",
    "rf"
   ]
  },
  {
   "cell_type": "code",
   "execution_count": null,
   "metadata": {},
   "outputs": [],
   "source": []
  }
 ],
 "metadata": {
  "kernelspec": {
   "display_name": "base",
   "language": "python",
   "name": "python3"
  },
  "language_info": {
   "codemirror_mode": {
    "name": "ipython",
    "version": 3
   },
   "file_extension": ".py",
   "mimetype": "text/x-python",
   "name": "python",
   "nbconvert_exporter": "python",
   "pygments_lexer": "ipython3",
   "version": "3.11.4"
  }
 },
 "nbformat": 4,
 "nbformat_minor": 2
}
