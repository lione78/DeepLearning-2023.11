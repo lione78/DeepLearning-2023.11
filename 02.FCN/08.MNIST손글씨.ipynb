{
 "cells": [
  {
   "cell_type": "markdown",
   "metadata": {},
   "source": [
    "### MNIST 손글씨 다중분류 - FCN"
   ]
  },
  {
   "cell_type": "code",
   "execution_count": 1,
   "metadata": {},
   "outputs": [],
   "source": [
    "import numpy as np\n",
    "import matplotlib.pyplot as plt\n",
    "import tensorflow as tf\n",
    "seed = 2023\n",
    "np.random.seed(seed)\n",
    "tf.random.set_seed(seed)\n",
    "import warnings\n",
    "import pandas as pd\n",
    "warnings.filterwarnings('ignore')"
   ]
  },
  {
   "cell_type": "markdown",
   "metadata": {},
   "source": [
    "- 데이터 전처리"
   ]
  },
  {
   "cell_type": "code",
   "execution_count": 2,
   "metadata": {},
   "outputs": [
    {
     "name": "stdout",
     "output_type": "stream",
     "text": [
      "Downloading data from https://storage.googleapis.com/tensorflow/tf-keras-datasets/mnist.npz\n",
      "11490434/11490434 [==============================] - 2s 0us/step\n"
     ]
    }
   ],
   "source": [
    "from tensorflow.keras.datasets import mnist\n",
    "(X_train, y_train), (X_test, y_test) = mnist.load_data()"
   ]
  },
  {
   "cell_type": "code",
   "execution_count": 3,
   "metadata": {},
   "outputs": [
    {
     "data": {
      "text/plain": [
       "((60000, 28, 28), (10000, 28, 28), (60000,), (10000,))"
      ]
     },
     "execution_count": 3,
     "metadata": {},
     "output_type": "execute_result"
    }
   ],
   "source": [
    "X_train.shape, X_test.shape, y_train.shape, y_test.shape\n",
    "# (60000, 28, 28) > (60000, -1(784))"
   ]
  },
  {
   "cell_type": "code",
   "execution_count": 4,
   "metadata": {},
   "outputs": [
    {
     "data": {
      "image/png": "[encoded data removed]",
      "text/plain": [
       "<Figure size 640x480 with 1 Axes>"
      ]
     },
     "metadata": {},
     "output_type": "display_data"
    }
   ],
   "source": [
    "plt.imshow(X_train[0], cmap='Greys');"
   ]
  },
  {
   "cell_type": "code",
   "execution_count": 5,
   "metadata": {},
   "outputs": [
    {
     "name": "stdout",
     "output_type": "stream",
     "text": [
      "  0   0   0   0   0   0   0   0   0   0   0   0   0   0   0   0   0   0   0   0   0   0   0   0   0   0   0   0 \n",
      "  0   0   0   0   0   0   0   0   0   0   0   0   0   0   0   0   0   0   0   0   0   0   0   0   0   0   0   0 \n",
      "  0   0   0   0   0   0   0   0   0   0   0   0   0   0   0   0   0   0   0   0   0   0   0   0   0   0   0   0 \n",
      "  0   0   0   0   0   0   0   0   0   0   0   0   0   0   0   0   0   0   0   0   0   0   0   0   0   0   0   0 \n",
      "  0   0   0   0   0   0   0   0   0   0   0   0   0   0   0   0   0   0   0   0   0   0   0   0   0   0   0   0 \n",
      "  0   0   0   0   0   0   0   0   0   0   0   0   3  18  18  18 126 136 175  26 166 255 247 127   0   0   0   0 \n",
      "  0   0   0   0   0   0   0   0  30  36  94 154 170 253 253 253 253 253 225 172 253 242 195  64   0   0   0   0 \n",
      "  0   0   0   0   0   0   0  49 238 253 253 253 253 253 253 253 253 251  93  82  82  56  39   0   0   0   0   0 \n",
      "  0   0   0   0   0   0   0  18 219 253 253 253 253 253 198 182 247 241   0   0   0   0   0   0   0   0   0   0 \n",
      "  0   0   0   0   0   0   0   0  80 156 107 253 253 205  11   0  43 154   0   0   0   0   0   0   0   0   0   0 \n",
      "  0   0   0   0   0   0   0   0   0  14   1 154 253  90   0   0   0   0   0   0   0   0   0   0   0   0   0   0 \n",
      "  0   0   0   0   0   0   0   0   0   0   0 139 253 190   2   0   0   0   0   0   0   0   0   0   0   0   0   0 \n",
      "  0   0   0   0   0   0   0   0   0   0   0  11 190 253  70   0   0   0   0   0   0   0   0   0   0   0   0   0 \n",
      "  0   0   0   0   0   0   0   0   0   0   0   0  35 241 225 160 108   1   0   0   0   0   0   0   0   0   0   0 \n",
      "  0   0   0   0   0   0   0   0   0   0   0   0   0  81 240 253 253 119  25   0   0   0   0   0   0   0   0   0 \n",
      "  0   0   0   0   0   0   0   0   0   0   0   0   0   0  45 186 253 253 150  27   0   0   0   0   0   0   0   0 \n",
      "  0   0   0   0   0   0   0   0   0   0   0   0   0   0   0  16  93 252 253 187   0   0   0   0   0   0   0   0 \n",
      "  0   0   0   0   0   0   0   0   0   0   0   0   0   0   0   0   0 249 253 249  64   0   0   0   0   0   0   0 \n",
      "  0   0   0   0   0   0   0   0   0   0   0   0   0   0  46 130 183 253 253 207   2   0   0   0   0   0   0   0 \n",
      "  0   0   0   0   0   0   0   0   0   0   0   0  39 148 229 253 253 253 250 182   0   0   0   0   0   0   0   0 \n",
      "  0   0   0   0   0   0   0   0   0   0  24 114 221 253 253 253 253 201  78   0   0   0   0   0   0   0   0   0 \n",
      "  0   0   0   0   0   0   0   0  23  66 213 253 253 253 253 198  81   2   0   0   0   0   0   0   0   0   0   0 \n",
      "  0   0   0   0   0   0  18 171 219 253 253 253 253 195  80   9   0   0   0   0   0   0   0   0   0   0   0   0 \n",
      "  0   0   0   0  55 172 226 253 253 253 253 244 133  11   0   0   0   0   0   0   0   0   0   0   0   0   0   0 \n",
      "  0   0   0   0 136 253 253 253 212 135 132  16   0   0   0   0   0   0   0   0   0   0   0   0   0   0   0   0 \n",
      "  0   0   0   0   0   0   0   0   0   0   0   0   0   0   0   0   0   0   0   0   0   0   0   0   0   0   0   0 \n",
      "  0   0   0   0   0   0   0   0   0   0   0   0   0   0   0   0   0   0   0   0   0   0   0   0   0   0   0   0 \n",
      "  0   0   0   0   0   0   0   0   0   0   0   0   0   0   0   0   0   0   0   0   0   0   0   0   0   0   0   0 \n"
     ]
    }
   ],
   "source": [
    "# sys.stdout.write()와 print() 동일하나 속도가 빠르다.\n",
    "import sys\n",
    "for row in X_train[0]:\n",
    "    for x in row:\n",
    "        sys.stdout.write(f'{x:3d} ')\n",
    "    sys.stdout.write('\\n')\n",
    "# rgb는 0 : black, 255 : white\n",
    "# mnist는 0 : white, 255 : black 반대"
   ]
  },
  {
   "cell_type": "code",
   "execution_count": 6,
   "metadata": {},
   "outputs": [],
   "source": [
    "# X scaling\n",
    "# 이미지 데이터는 0 ~ 1 사이의 값으로 스케일링\n",
    "X_train = X_train / 255.\n",
    "X_test = X_test / 255."
   ]
  },
  {
   "cell_type": "code",
   "execution_count": 7,
   "metadata": {},
   "outputs": [
    {
     "data": {
      "text/plain": [
       "((60000, 784), (10000, 784))"
      ]
     },
     "execution_count": 7,
     "metadata": {},
     "output_type": "execute_result"
    }
   ],
   "source": [
    "# Fully Connected Network(Dense layer)은 1차원 데이터만 처리 가능하므로 차원 축소\n",
    "X_train = X_train.reshape(-1, 784)\n",
    "X_test = X_test.reshape(-1, 784)\n",
    "X_train.shape, X_test.shape"
   ]
  },
  {
   "cell_type": "code",
   "execution_count": 8,
   "metadata": {},
   "outputs": [
    {
     "data": {
      "text/plain": [
       "(array([0, 1, 2, 3, 4, 5, 6, 7, 8, 9], dtype=uint8),\n",
       " array([5923, 6742, 5958, 6131, 5842, 5421, 5918, 6265, 5851, 5949],\n",
       "       dtype=int64))"
      ]
     },
     "execution_count": 8,
     "metadata": {},
     "output_type": "execute_result"
    }
   ],
   "source": [
    "# y 값의 분포\n",
    "np.unique(y_train, return_counts=True)"
   ]
  },
  {
   "cell_type": "code",
   "execution_count": 9,
   "metadata": {},
   "outputs": [
    {
     "data": {
      "text/plain": [
       "((60000, 10), (10000, 10))"
      ]
     },
     "execution_count": 9,
     "metadata": {},
     "output_type": "execute_result"
    }
   ],
   "source": [
    "# One hot encoding\n",
    "from tensorflow.keras.utils import to_categorical\n",
    "Y_train = to_categorical(y_train)\n",
    "Y_test = to_categorical(y_test)\n",
    "Y_train.shape, Y_test.shape"
   ]
  },
  {
   "cell_type": "markdown",
   "metadata": {},
   "source": [
    "- 모델 정의/설정/학습/평가"
   ]
  },
  {
   "cell_type": "code",
   "execution_count": 10,
   "metadata": {},
   "outputs": [],
   "source": [
    "from tensorflow.keras.models import Sequential, load_model\n",
    "from tensorflow.keras.layers import Dense, Dropout\n",
    "from tensorflow.keras.callbacks import ModelCheckpoint, EarlyStopping"
   ]
  },
  {
   "cell_type": "code",
   "execution_count": 11,
   "metadata": {},
   "outputs": [
    {
     "name": "stdout",
     "output_type": "stream",
     "text": [
      "Model: \"sequential\"\n",
      "_________________________________________________________________\n",
      " Layer (type)                Output Shape              Param #   \n",
      "=================================================================\n",
      " dense (Dense)               (None, 1000)              785000    \n",
      "                                                                 \n",
      " dropout (Dropout)           (None, 1000)              0         \n",
      "                                                                 \n",
      " dense_1 (Dense)             (None, 256)               256256    \n",
      "                                                                 \n",
      " dropout_1 (Dropout)         (None, 256)               0         \n",
      "                                                                 \n",
      " dense_2 (Dense)             (None, 48)                12336     \n",
      "                                                                 \n",
      " dense_3 (Dense)             (None, 10)                490       \n",
      "                                                                 \n",
      "=================================================================\n",
      "Total params: 1054082 (4.02 MB)\n",
      "Trainable params: 1054082 (4.02 MB)\n",
      "Non-trainable params: 0 (0.00 Byte)\n",
      "_________________________________________________________________\n"
     ]
    }
   ],
   "source": [
    "model = Sequential([\n",
    "    Dense(1000, input_dim=784, activation='relu'),\n",
    "    Dropout(0.25),\n",
    "    Dense(256, activation='relu'),\n",
    "    Dropout(0.25),      # 1/4정도 중간에 쉰다.\n",
    "    Dense(48, activation='relu'),\n",
    "    Dense(10, activation='softmax')\n",
    "])\n",
    "model.summary()"
   ]
  },
  {
   "cell_type": "code",
   "execution_count": 12,
   "metadata": {},
   "outputs": [],
   "source": [
    "model.compile('adam', 'categorical_crossentropy', metrics=['accuracy'])"
   ]
  },
  {
   "cell_type": "code",
   "execution_count": 13,
   "metadata": {},
   "outputs": [
    {
     "name": "stdout",
     "output_type": "stream",
     "text": [
      "Epoch 1/100\n",
      "186/188 [============================>.] - ETA: 0s - loss: 0.3632 - accuracy: 0.8879\n",
      "Epoch 1: val_loss improved from inf to 0.14065, saving model to models\\best_mnist.h5\n",
      "188/188 [==============================] - 5s 24ms/step - loss: 0.3621 - accuracy: 0.8881 - val_loss: 0.1407 - val_accuracy: 0.9572\n",
      "Epoch 2/100\n",
      "188/188 [==============================] - ETA: 0s - loss: 0.1289 - accuracy: 0.9605\n",
      "Epoch 2: val_loss improved from 0.14065 to 0.09769, saving model to models\\best_mnist.h5\n",
      "188/188 [==============================] - 5s 24ms/step - loss: 0.1289 - accuracy: 0.9605 - val_loss: 0.0977 - val_accuracy: 0.9712\n",
      "Epoch 3/100\n",
      "186/188 [============================>.] - ETA: 0s - loss: 0.0879 - accuracy: 0.9736\n",
      "Epoch 3: val_loss improved from 0.09769 to 0.08516, saving model to models\\best_mnist.h5\n",
      "188/188 [==============================] - 4s 24ms/step - loss: 0.0878 - accuracy: 0.9736 - val_loss: 0.0852 - val_accuracy: 0.9737\n",
      "Epoch 4/100\n",
      "187/188 [============================>.] - ETA: 0s - loss: 0.0684 - accuracy: 0.9787\n",
      "Epoch 4: val_loss did not improve from 0.08516\n",
      "188/188 [==============================] - 4s 23ms/step - loss: 0.0684 - accuracy: 0.9787 - val_loss: 0.0869 - val_accuracy: 0.9740\n",
      "Epoch 5/100\n",
      "188/188 [==============================] - ETA: 0s - loss: 0.0550 - accuracy: 0.9826\n",
      "Epoch 5: val_loss improved from 0.08516 to 0.08224, saving model to models\\best_mnist.h5\n",
      "188/188 [==============================] - 4s 23ms/step - loss: 0.0550 - accuracy: 0.9826 - val_loss: 0.0822 - val_accuracy: 0.9749\n",
      "Epoch 6/100\n",
      "188/188 [==============================] - ETA: 0s - loss: 0.0441 - accuracy: 0.9861\n",
      "Epoch 6: val_loss improved from 0.08224 to 0.08174, saving model to models\\best_mnist.h5\n",
      "188/188 [==============================] - 4s 23ms/step - loss: 0.0441 - accuracy: 0.9861 - val_loss: 0.0817 - val_accuracy: 0.9767\n",
      "Epoch 7/100\n",
      "186/188 [============================>.] - ETA: 0s - loss: 0.0381 - accuracy: 0.9873\n",
      "Epoch 7: val_loss did not improve from 0.08174\n",
      "188/188 [==============================] - 4s 23ms/step - loss: 0.0379 - accuracy: 0.9873 - val_loss: 0.0977 - val_accuracy: 0.9758\n",
      "Epoch 8/100\n",
      "188/188 [==============================] - ETA: 0s - loss: 0.0337 - accuracy: 0.9886\n",
      "Epoch 8: val_loss improved from 0.08174 to 0.08151, saving model to models\\best_mnist.h5\n",
      "188/188 [==============================] - 4s 23ms/step - loss: 0.0337 - accuracy: 0.9886 - val_loss: 0.0815 - val_accuracy: 0.9784\n",
      "Epoch 9/100\n",
      "187/188 [============================>.] - ETA: 0s - loss: 0.0274 - accuracy: 0.9910\n",
      "Epoch 9: val_loss improved from 0.08151 to 0.08072, saving model to models\\best_mnist.h5\n",
      "188/188 [==============================] - 5s 25ms/step - loss: 0.0273 - accuracy: 0.9910 - val_loss: 0.0807 - val_accuracy: 0.9798\n",
      "Epoch 10/100\n",
      "187/188 [============================>.] - ETA: 0s - loss: 0.0264 - accuracy: 0.9912\n",
      "Epoch 10: val_loss improved from 0.08072 to 0.07642, saving model to models\\best_mnist.h5\n",
      "188/188 [==============================] - 4s 24ms/step - loss: 0.0263 - accuracy: 0.9912 - val_loss: 0.0764 - val_accuracy: 0.9797\n",
      "Epoch 11/100\n",
      "187/188 [============================>.] - ETA: 0s - loss: 0.0234 - accuracy: 0.9923\n",
      "Epoch 11: val_loss did not improve from 0.07642\n",
      "188/188 [==============================] - 4s 23ms/step - loss: 0.0233 - accuracy: 0.9923 - val_loss: 0.0919 - val_accuracy: 0.9782\n",
      "Epoch 12/100\n",
      "188/188 [==============================] - ETA: 0s - loss: 0.0224 - accuracy: 0.9928\n",
      "Epoch 12: val_loss did not improve from 0.07642\n",
      "188/188 [==============================] - 5s 27ms/step - loss: 0.0224 - accuracy: 0.9928 - val_loss: 0.0888 - val_accuracy: 0.9785\n",
      "Epoch 13/100\n",
      "187/188 [============================>.] - ETA: 0s - loss: 0.0193 - accuracy: 0.9936\n",
      "Epoch 13: val_loss did not improve from 0.07642\n",
      "188/188 [==============================] - 7s 35ms/step - loss: 0.0193 - accuracy: 0.9936 - val_loss: 0.0850 - val_accuracy: 0.9795\n",
      "Epoch 14/100\n",
      "187/188 [============================>.] - ETA: 0s - loss: 0.0196 - accuracy: 0.9941\n",
      "Epoch 14: val_loss did not improve from 0.07642\n",
      "188/188 [==============================] - 5s 24ms/step - loss: 0.0197 - accuracy: 0.9941 - val_loss: 0.0840 - val_accuracy: 0.9811\n",
      "Epoch 15/100\n",
      "186/188 [============================>.] - ETA: 0s - loss: 0.0187 - accuracy: 0.9940\n",
      "Epoch 15: val_loss did not improve from 0.07642\n",
      "188/188 [==============================] - 4s 21ms/step - loss: 0.0187 - accuracy: 0.9940 - val_loss: 0.0861 - val_accuracy: 0.9805\n"
     ]
    }
   ],
   "source": [
    "# monitor='val_loss' mc, es 둘 다  default 생략\n",
    "mc = ModelCheckpoint('models/best_mnist.h5', verbose=1, save_best_only=True)\n",
    "es = EarlyStopping(patience=5)\n",
    "hist = model.fit(X_train, Y_train, validation_split=0.2,\n",
    "                 epochs=100, batch_size=256, verbose=1,\n",
    "                 callbacks=[mc, es])"
   ]
  },
  {
   "cell_type": "code",
   "execution_count": 14,
   "metadata": {},
   "outputs": [
    {
     "name": "stdout",
     "output_type": "stream",
     "text": [
      "313/313 [==============================] - 1s 3ms/step - loss: 0.0712 - accuracy: 0.9800\n"
     ]
    },
    {
     "data": {
      "text/plain": [
       "[0.07117806375026703, 0.9800000190734863]"
      ]
     },
     "execution_count": 14,
     "metadata": {},
     "output_type": "execute_result"
    }
   ],
   "source": [
    "best_model = load_model('models/best_mnist.h5')\n",
    "best_model.evaluate(X_test, Y_test)"
   ]
  },
  {
   "cell_type": "markdown",
   "metadata": {},
   "source": [
    "- 시각화"
   ]
  },
  {
   "cell_type": "code",
   "execution_count": 15,
   "metadata": {},
   "outputs": [
    {
     "data": {
      "image/png": "[encoded data removed]",
      "text/plain": [
       "<Figure size 1200x600 with 1 Axes>"
      ]
     },
     "metadata": {},
     "output_type": "display_data"
    }
   ],
   "source": [
    "y_acc = hist.history['accuracy']\n",
    "y_vloss = hist.history['val_loss']\n",
    "xs = np.arange(1, len(y_acc)+1)\n",
    "plt.figure(figsize=(12,6))\n",
    "plt.plot(xs, y_acc, label='train accuracy')\n",
    "plt.plot(xs, y_vloss, label='validation loss')\n",
    "plt.legend(), plt.grid(), plt.xlabel('epoch')\n",
    "plt.show()"
   ]
  },
  {
   "cell_type": "markdown",
   "metadata": {},
   "source": [
    "- Dropout 안하고 실시\n",
    "- 모델 정의/설정/학습/평가"
   ]
  },
  {
   "cell_type": "code",
   "execution_count": 16,
   "metadata": {},
   "outputs": [],
   "source": [
    "model2 = Sequential([\n",
    "    Dense(1000, input_dim=784, activation='relu'),\n",
    "    Dense(256, activation='relu'),\n",
    "    Dense(48, activation='relu'),\n",
    "    Dense(10, activation='softmax')\n",
    "])"
   ]
  },
  {
   "cell_type": "code",
   "execution_count": 17,
   "metadata": {},
   "outputs": [],
   "source": [
    "model2.compile(optimizer='adam', loss='categorical_crossentropy', metrics=['accuracy'])"
   ]
  },
  {
   "cell_type": "code",
   "execution_count": 18,
   "metadata": {},
   "outputs": [],
   "source": [
    "mc2 = ModelCheckpoint('models/best_minist_wo_dropout.h5', monitor='val_loss', verbose=0, save_best_only=True)\n",
    "es2 = EarlyStopping(monitor='val_loss', patience=10)"
   ]
  },
  {
   "cell_type": "code",
   "execution_count": 19,
   "metadata": {},
   "outputs": [
    {
     "name": "stdout",
     "output_type": "stream",
     "text": [
      "Epoch 1/100\n",
      "188/188 [==============================] - 4s 20ms/step - loss: 0.3060 - accuracy: 0.9095 - val_loss: 0.1423 - val_accuracy: 0.9589\n",
      "Epoch 2/100\n",
      "188/188 [==============================] - 4s 19ms/step - loss: 0.1021 - accuracy: 0.9692 - val_loss: 0.0912 - val_accuracy: 0.9720\n",
      "Epoch 3/100\n",
      "188/188 [==============================] - 4s 19ms/step - loss: 0.0592 - accuracy: 0.9820 - val_loss: 0.0809 - val_accuracy: 0.9748\n",
      "Epoch 4/100\n",
      "188/188 [==============================] - 3s 18ms/step - loss: 0.0393 - accuracy: 0.9881 - val_loss: 0.0811 - val_accuracy: 0.9759\n",
      "Epoch 5/100\n",
      "188/188 [==============================] - 3s 19ms/step - loss: 0.0277 - accuracy: 0.9917 - val_loss: 0.0941 - val_accuracy: 0.9743\n",
      "Epoch 6/100\n",
      "188/188 [==============================] - 3s 18ms/step - loss: 0.0226 - accuracy: 0.9925 - val_loss: 0.0790 - val_accuracy: 0.9772\n",
      "Epoch 7/100\n",
      "188/188 [==============================] - 3s 18ms/step - loss: 0.0178 - accuracy: 0.9942 - val_loss: 0.0898 - val_accuracy: 0.9774\n",
      "Epoch 8/100\n",
      "188/188 [==============================] - 3s 18ms/step - loss: 0.0109 - accuracy: 0.9966 - val_loss: 0.0930 - val_accuracy: 0.9772\n",
      "Epoch 9/100\n",
      "188/188 [==============================] - 3s 18ms/step - loss: 0.0110 - accuracy: 0.9964 - val_loss: 0.1035 - val_accuracy: 0.9757\n",
      "Epoch 10/100\n",
      "188/188 [==============================] - 3s 18ms/step - loss: 0.0134 - accuracy: 0.9960 - val_loss: 0.1025 - val_accuracy: 0.9755\n",
      "Epoch 11/100\n",
      "188/188 [==============================] - 3s 18ms/step - loss: 0.0100 - accuracy: 0.9967 - val_loss: 0.0966 - val_accuracy: 0.9783\n",
      "Epoch 12/100\n",
      "188/188 [==============================] - 3s 18ms/step - loss: 0.0105 - accuracy: 0.9966 - val_loss: 0.1124 - val_accuracy: 0.9756\n",
      "Epoch 13/100\n",
      "188/188 [==============================] - 3s 18ms/step - loss: 0.0119 - accuracy: 0.9957 - val_loss: 0.0990 - val_accuracy: 0.9778\n",
      "Epoch 14/100\n",
      "188/188 [==============================] - 4s 19ms/step - loss: 0.0113 - accuracy: 0.9966 - val_loss: 0.0988 - val_accuracy: 0.9773\n",
      "Epoch 15/100\n",
      "188/188 [==============================] - 3s 18ms/step - loss: 0.0079 - accuracy: 0.9974 - val_loss: 0.0951 - val_accuracy: 0.9792\n",
      "Epoch 16/100\n",
      "188/188 [==============================] - 3s 19ms/step - loss: 0.0054 - accuracy: 0.9982 - val_loss: 0.1053 - val_accuracy: 0.9807\n"
     ]
    }
   ],
   "source": [
    "hist2 = model2.fit(X_train, Y_train, validation_split=0.2, verbose=1,\n",
    "                   epochs=100, batch_size=256, callbacks=[mc2, es2])"
   ]
  },
  {
   "cell_type": "code",
   "execution_count": 21,
   "metadata": {},
   "outputs": [
    {
     "name": "stdout",
     "output_type": "stream",
     "text": [
      "313/313 [==============================] - 1s 3ms/step - loss: 0.0694 - accuracy: 0.9789\n"
     ]
    },
    {
     "data": {
      "text/plain": [
       "[0.06942293047904968, 0.9789000153541565]"
      ]
     },
     "execution_count": 21,
     "metadata": {},
     "output_type": "execute_result"
    }
   ],
   "source": [
    "best_model2 = load_model('models/best_minist_wo_dropout.h5')\n",
    "best_model2.evaluate(X_test, Y_test)"
   ]
  },
  {
   "cell_type": "markdown",
   "metadata": {},
   "source": [
    "- 시각화"
   ]
  },
  {
   "cell_type": "code",
   "execution_count": 22,
   "metadata": {},
   "outputs": [
    {
     "data": {
      "image/png": "[encoded data removed]",
      "text/plain": [
       "<Figure size 1200x600 with 1 Axes>"
      ]
     },
     "metadata": {},
     "output_type": "display_data"
    }
   ],
   "source": [
    "y_acc2 = hist2.history['accuracy']\n",
    "y_vloss2 = hist2.history['val_loss']\n",
    "xs2 = np.arange(1, len(y_acc2)+1)\n",
    "\n",
    "plt.figure(figsize=(12,6))\n",
    "plt.plot(xs2, y_acc2, label='train accuracy')\n",
    "plt.plot(xs2, y_vloss2, label='validation loss')\n",
    "plt.legend(), plt.grid(), plt.xlabel('epoch')\n",
    "plt.show()"
   ]
  }
 ],
 "metadata": {
  "kernelspec": {
   "display_name": "base",
   "language": "python",
   "name": "python3"
  },
  "language_info": {
   "codemirror_mode": {
    "name": "ipython",
    "version": 3
   },
   "file_extension": ".py",
   "mimetype": "text/x-python",
   "name": "python",
   "nbconvert_exporter": "python",
   "pygments_lexer": "ipython3",
   "version": "3.11.4"
  }
 },
 "nbformat": 4,
 "nbformat_minor": 2
}
