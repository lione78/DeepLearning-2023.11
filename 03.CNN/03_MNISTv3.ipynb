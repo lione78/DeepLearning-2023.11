{
  "cells": [
    {
      "cell_type": "markdown",
      "metadata": {
        "id": "6uR8K1KEe-Hw"
      },
      "source": [
        "### MNIST 손글씨 - CNN v3\n",
        "- 2 x Conv2D layers\n",
        "- 1 x MaxPooling2D layer\n",
        "- 1 Dropout(0.25) layer\n",
        "- 1 FCN layer\n",
        "- 1 Dropout(0.5) layer\n",
        "- 1 Output layer"
      ]
    },
    {
      "cell_type": "code",
      "execution_count": 1,
      "metadata": {
        "id": "5bxkrCdUe4mU"
      },
      "outputs": [],
      "source": [
        "import numpy as np\n",
        "import matplotlib.pyplot as plt\n",
        "import tensorflow as tf\n",
        "seed = 2023\n",
        "np.random.seed(seed)\n",
        "tf.random.set_seed(seed)"
      ]
    },
    {
      "cell_type": "code",
      "execution_count": 2,
      "metadata": {
        "colab": {
          "base_uri": "https://localhost:8080/",
          "height": 35
        },
        "id": "Cs_hPIOMfjPo",
        "outputId": "a9b73ee6-5721-44c0-8fd2-db98909da04c"
      },
      "outputs": [
        {
          "data": {
            "application/vnd.google.colaboratory.intrinsic+json": {
              "type": "string"
            },
            "text/plain": [
              "'2.14.0'"
            ]
          },
          "execution_count": 2,
          "metadata": {},
          "output_type": "execute_result"
        }
      ],
      "source": [
        "tf.__version__"
      ]
    },
    {
      "cell_type": "markdown",
      "metadata": {
        "id": "vHGs3WgWfgAA"
      },
      "source": [
        "- 데이터 전처리"
      ]
    },
    {
      "cell_type": "code",
      "execution_count": 3,
      "metadata": {
        "colab": {
          "base_uri": "https://localhost:8080/"
        },
        "id": "Qht2jclkfZU7",
        "outputId": "e7dfa6ca-df0a-4ab1-97a7-8a0e91f60218"
      },
      "outputs": [
        {
          "name": "stdout",
          "output_type": "stream",
          "text": [
            "Downloading data from https://storage.googleapis.com/tensorflow/tf-keras-datasets/mnist.npz\n",
            "11490434/11490434 [==============================] - 0s 0us/step\n"
          ]
        },
        {
          "data": {
            "text/plain": [
              "((60000, 28, 28), (60000,), (10000, 28, 28), (10000,))"
            ]
          },
          "execution_count": 3,
          "metadata": {},
          "output_type": "execute_result"
        }
      ],
      "source": [
        "from tensorflow.keras.datasets import mnist\n",
        "(X_train, y_train), (X_test, y_test) = mnist.load_data()\n",
        "X_train.shape, y_train.shape, X_test.shape, y_test.shape"
      ]
    },
    {
      "cell_type": "code",
      "execution_count": 4,
      "metadata": {
        "id": "OIZVEbACf9Tx"
      },
      "outputs": [],
      "source": [
        "# X data의 차원 변경 및 정규화(0 ~ 1)\n",
        "X_train = X_train.reshape(-1, 28, 28, 1) / 255.\n",
        "X_test = X_test.reshape(-1, 28, 28, 1) / 255."
      ]
    },
    {
      "cell_type": "code",
      "execution_count": 5,
      "metadata": {
        "colab": {
          "base_uri": "https://localhost:8080/"
        },
        "id": "A8tmhHBugb8n",
        "outputId": "02451f1b-3c42-4709-81cc-969056ca7e70"
      },
      "outputs": [
        {
          "data": {
            "text/plain": [
              "((60000, 10), (10000, 10))"
            ]
          },
          "execution_count": 5,
          "metadata": {},
          "output_type": "execute_result"
        }
      ],
      "source": [
        "# y_data의 one-hot-encoding\n",
        "from tensorflow.keras.utils import to_categorical\n",
        "Y_train = to_categorical(y_train)\n",
        "Y_test = to_categorical(y_test)\n",
        "Y_train.shape, Y_test.shape"
      ]
    },
    {
      "cell_type": "markdown",
      "metadata": {
        "id": "i0YiJ1Mcg9vp"
      },
      "source": [
        "- 모델 정의/설정/학습/평가"
      ]
    },
    {
      "cell_type": "code",
      "execution_count": 6,
      "metadata": {
        "id": "L-SdrI4Vg1Fx"
      },
      "outputs": [],
      "source": [
        "from tensorflow.keras.models import Sequential, load_model\n",
        "from tensorflow.keras.layers import Conv2D, Dense, Flatten, MaxPooling2D, Dropout\n",
        "from tensorflow.keras.callbacks import ModelCheckpoint, EarlyStopping"
      ]
    },
    {
      "cell_type": "code",
      "execution_count": 7,
      "metadata": {
        "colab": {
          "base_uri": "https://localhost:8080/"
        },
        "id": "ZvFhL5syhX4R",
        "outputId": "d9dc1ded-658f-4812-e199-c4581ac1941d"
      },
      "outputs": [
        {
          "name": "stdout",
          "output_type": "stream",
          "text": [
            "Model: \"sequential\"\n",
            "_________________________________________________________________\n",
            " Layer (type)                Output Shape              Param #   \n",
            "=================================================================\n",
            " conv2d (Conv2D)             (None, 26, 26, 32)        320       \n",
            "                                                                 \n",
            " conv2d_1 (Conv2D)           (None, 24, 24, 64)        18496     \n",
            "                                                                 \n",
            " max_pooling2d (MaxPooling2  (None, 12, 12, 64)        0         \n",
            " D)                                                              \n",
            "                                                                 \n",
            " dropout (Dropout)           (None, 12, 12, 64)        0         \n",
            "                                                                 \n",
            " flatten (Flatten)           (None, 9216)              0         \n",
            "                                                                 \n",
            " dense (Dense)               (None, 512)               4719104   \n",
            "                                                                 \n",
            " dropout_1 (Dropout)         (None, 512)               0         \n",
            "                                                                 \n",
            " dense_1 (Dense)             (None, 10)                5130      \n",
            "                                                                 \n",
            "=================================================================\n",
            "Total params: 4743050 (18.09 MB)\n",
            "Trainable params: 4743050 (18.09 MB)\n",
            "Non-trainable params: 0 (0.00 Byte)\n",
            "_________________________________________________________________\n"
          ]
        }
      ],
      "source": [
        "model = Sequential([\n",
        "    Conv2D(32, kernel_size=(3,3), input_shape=(28, 28, 1), activation='relu'),\n",
        "    Conv2D(64, kernel_size=(3,3), activation='relu'),\n",
        "    MaxPooling2D(),         # MaxPooling2D(pool_size=(2,2))\n",
        "    Dropout(0.25),\n",
        "    Flatten(),\n",
        "    Dense(512, activation='relu'),\n",
        "    Dropout(0.5),\n",
        "    Dense(10, activation='softmax')\n",
        "])\n",
        "model.summary()"
      ]
    },
    {
      "cell_type": "markdown",
      "metadata": {
        "id": "umQmFOrYijah"
      },
      "source": [
        "- Param 320개? 3 * 3 (f00 ~ f22, weight) * 32(filter 수) + 32(bias) = 320\n",
        "- Param 18496 : 32(처음 이미지 1 > 32개로) * 3 * 3 * 64 + 64 (위와 같음)"
      ]
    },
    {
      "cell_type": "code",
      "execution_count": 8,
      "metadata": {
        "id": "8jJxM0GviWwL"
      },
      "outputs": [],
      "source": [
        "model.compile('adam', 'categorical_crossentropy', metrics=['accuracy'])"
      ]
    },
    {
      "cell_type": "code",
      "execution_count": 9,
      "metadata": {
        "colab": {
          "base_uri": "https://localhost:8080/"
        },
        "id": "5nNJRU-QkXR4",
        "outputId": "9e9bce90-7197-45f5-bbf1-3332a5a59386"
      },
      "outputs": [
        {
          "name": "stdout",
          "output_type": "stream",
          "text": [
            "total 8\n",
            "drwxr-xr-x 2 root root 4096 Nov  8 02:13 models\n",
            "drwxr-xr-x 1 root root 4096 Nov  6 14:20 sample_data\n"
          ]
        }
      ],
      "source": [
        "!mkdir models      # ! 리눅스 명령어\n",
        "!ls -l"
      ]
    },
    {
      "cell_type": "code",
      "execution_count": 10,
      "metadata": {
        "id": "Tl2KA385j-_7"
      },
      "outputs": [],
      "source": [
        "model_path = 'models/best-mnist-v3.h5'\n",
        "mc = ModelCheckpoint(model_path, save_best_only=True, verbose=1)\n",
        "es = EarlyStopping(patience=5)"
      ]
    },
    {
      "cell_type": "code",
      "execution_count": 11,
      "metadata": {
        "colab": {
          "base_uri": "https://localhost:8080/"
        },
        "id": "vynR1WXck-mz",
        "outputId": "49042b20-0de4-4ac6-ba90-2ae3363c48e1"
      },
      "outputs": [
        {
          "name": "stdout",
          "output_type": "stream",
          "text": [
            "Epoch 1/100\n",
            "188/188 [==============================] - ETA: 0s - loss: 0.2366 - accuracy: 0.9260\n",
            "Epoch 1: val_loss improved from inf to 0.06064, saving model to models/best-mnist-v3.h5\n",
            "188/188 [==============================] - 16s 24ms/step - loss: 0.2366 - accuracy: 0.9260 - val_loss: 0.0606 - val_accuracy: 0.9834\n",
            "Epoch 2/100\n",
            "  1/188 [..............................] - ETA: 3s - loss: 0.0797 - accuracy: 0.9648"
          ]
        },
        {
          "name": "stderr",
          "output_type": "stream",
          "text": [
            "/usr/local/lib/python3.10/dist-packages/keras/src/engine/training.py:3079: UserWarning: You are saving your model as an HDF5 file via `model.save()`. This file format is considered legacy. We recommend using instead the native Keras format, e.g. `model.save('my_model.keras')`.\n",
            "  saving_api.save_model(\n"
          ]
        },
        {
          "name": "stdout",
          "output_type": "stream",
          "text": [
            "185/188 [============================>.] - ETA: 0s - loss: 0.0671 - accuracy: 0.9790\n",
            "Epoch 2: val_loss improved from 0.06064 to 0.04743, saving model to models/best-mnist-v3.h5\n",
            "188/188 [==============================] - 3s 18ms/step - loss: 0.0671 - accuracy: 0.9790 - val_loss: 0.0474 - val_accuracy: 0.9862\n",
            "Epoch 3/100\n",
            "186/188 [============================>.] - ETA: 0s - loss: 0.0459 - accuracy: 0.9857\n",
            "Epoch 3: val_loss improved from 0.04743 to 0.03981, saving model to models/best-mnist-v3.h5\n",
            "188/188 [==============================] - 3s 18ms/step - loss: 0.0459 - accuracy: 0.9856 - val_loss: 0.0398 - val_accuracy: 0.9883\n",
            "Epoch 4/100\n",
            "187/188 [============================>.] - ETA: 0s - loss: 0.0353 - accuracy: 0.9891\n",
            "Epoch 4: val_loss improved from 0.03981 to 0.03529, saving model to models/best-mnist-v3.h5\n",
            "188/188 [==============================] - 4s 19ms/step - loss: 0.0352 - accuracy: 0.9891 - val_loss: 0.0353 - val_accuracy: 0.9897\n",
            "Epoch 5/100\n",
            "186/188 [============================>.] - ETA: 0s - loss: 0.0261 - accuracy: 0.9915\n",
            "Epoch 5: val_loss did not improve from 0.03529\n",
            "188/188 [==============================] - 3s 18ms/step - loss: 0.0261 - accuracy: 0.9915 - val_loss: 0.0380 - val_accuracy: 0.9891\n",
            "Epoch 6/100\n",
            "185/188 [============================>.] - ETA: 0s - loss: 0.0244 - accuracy: 0.9918\n",
            "Epoch 6: val_loss did not improve from 0.03529\n",
            "188/188 [==============================] - 3s 17ms/step - loss: 0.0244 - accuracy: 0.9918 - val_loss: 0.0407 - val_accuracy: 0.9883\n",
            "Epoch 7/100\n",
            "187/188 [============================>.] - ETA: 0s - loss: 0.0201 - accuracy: 0.9936\n",
            "Epoch 7: val_loss did not improve from 0.03529\n",
            "188/188 [==============================] - 3s 18ms/step - loss: 0.0201 - accuracy: 0.9936 - val_loss: 0.0370 - val_accuracy: 0.9900\n",
            "Epoch 8/100\n",
            "185/188 [============================>.] - ETA: 0s - loss: 0.0162 - accuracy: 0.9948\n",
            "Epoch 8: val_loss improved from 0.03529 to 0.03491, saving model to models/best-mnist-v3.h5\n",
            "188/188 [==============================] - 4s 19ms/step - loss: 0.0161 - accuracy: 0.9948 - val_loss: 0.0349 - val_accuracy: 0.9908\n",
            "Epoch 9/100\n",
            "186/188 [============================>.] - ETA: 0s - loss: 0.0134 - accuracy: 0.9951\n",
            "Epoch 9: val_loss did not improve from 0.03491\n",
            "188/188 [==============================] - 3s 18ms/step - loss: 0.0134 - accuracy: 0.9951 - val_loss: 0.0354 - val_accuracy: 0.9912\n",
            "Epoch 10/100\n",
            "185/188 [============================>.] - ETA: 0s - loss: 0.0120 - accuracy: 0.9958\n",
            "Epoch 10: val_loss improved from 0.03491 to 0.03370, saving model to models/best-mnist-v3.h5\n",
            "188/188 [==============================] - 3s 18ms/step - loss: 0.0122 - accuracy: 0.9958 - val_loss: 0.0337 - val_accuracy: 0.9912\n",
            "Epoch 11/100\n",
            "187/188 [============================>.] - ETA: 0s - loss: 0.0126 - accuracy: 0.9959\n",
            "Epoch 11: val_loss did not improve from 0.03370\n",
            "188/188 [==============================] - 3s 18ms/step - loss: 0.0126 - accuracy: 0.9959 - val_loss: 0.0347 - val_accuracy: 0.9916\n",
            "Epoch 12/100\n",
            "185/188 [============================>.] - ETA: 0s - loss: 0.0116 - accuracy: 0.9960\n",
            "Epoch 12: val_loss did not improve from 0.03370\n",
            "188/188 [==============================] - 3s 18ms/step - loss: 0.0115 - accuracy: 0.9960 - val_loss: 0.0342 - val_accuracy: 0.9907\n",
            "Epoch 13/100\n",
            "185/188 [============================>.] - ETA: 0s - loss: 0.0097 - accuracy: 0.9970\n",
            "Epoch 13: val_loss did not improve from 0.03370\n",
            "188/188 [==============================] - 3s 17ms/step - loss: 0.0097 - accuracy: 0.9970 - val_loss: 0.0352 - val_accuracy: 0.9917\n",
            "Epoch 14/100\n",
            "188/188 [==============================] - ETA: 0s - loss: 0.0087 - accuracy: 0.9967\n",
            "Epoch 14: val_loss did not improve from 0.03370\n",
            "188/188 [==============================] - 3s 17ms/step - loss: 0.0087 - accuracy: 0.9967 - val_loss: 0.0383 - val_accuracy: 0.9910\n",
            "Epoch 15/100\n",
            "187/188 [============================>.] - ETA: 0s - loss: 0.0085 - accuracy: 0.9970\n",
            "Epoch 15: val_loss did not improve from 0.03370\n",
            "188/188 [==============================] - 3s 18ms/step - loss: 0.0085 - accuracy: 0.9970 - val_loss: 0.0357 - val_accuracy: 0.9920\n"
          ]
        }
      ],
      "source": [
        "hist = model.fit(\n",
        "    X_train, Y_train, validation_split=0.2,\n",
        "    epochs=100, batch_size=256, callbacks=[mc, es]\n",
        ")"
      ]
    },
    {
      "cell_type": "code",
      "execution_count": 12,
      "metadata": {
        "colab": {
          "base_uri": "https://localhost:8080/"
        },
        "id": "-vDs4IjNlaGb",
        "outputId": "326009ba-cc88-47fa-8764-7fad24d0cd88"
      },
      "outputs": [
        {
          "name": "stdout",
          "output_type": "stream",
          "text": [
            "313/313 [==============================] - 1s 4ms/step - loss: 0.0320 - accuracy: 0.9911\n"
          ]
        },
        {
          "data": {
            "text/plain": [
              "[0.03203532099723816, 0.991100013256073]"
            ]
          },
          "execution_count": 12,
          "metadata": {},
          "output_type": "execute_result"
        }
      ],
      "source": [
        "best_model = load_model(model_path)\n",
        "best_model.evaluate(X_test, Y_test)"
      ]
    },
    {
      "cell_type": "code",
      "execution_count": 13,
      "metadata": {
        "id": "qB5TjJj9mdMz"
      },
      "outputs": [],
      "source": [
        "y_acc = hist.history['accuracy']\n",
        "y_vloss = hist.history['val_loss']\n",
        "xs = np.arange(1, len(y_acc)+1)"
      ]
    },
    {
      "cell_type": "code",
      "execution_count": 14,
      "metadata": {
        "colab": {
          "base_uri": "https://localhost:8080/",
          "height": 542
        },
        "id": "Q_cHuejam7ZZ",
        "outputId": "2feb2850-9445-44a0-a632-eb779933550e"
      },
      "outputs": [
        {
          "data": {
            "image/png": "[encoded data removed]",
            "text/plain": [
              "<Figure size 1200x600 with 1 Axes>"
            ]
          },
          "metadata": {},
          "output_type": "display_data"
        }
      ],
      "source": [
        "plt.figure(figsize=(12,6))\n",
        "plt.plot(xs, y_acc, label='train accuracy')\n",
        "plt.plot(xs, y_vloss, label='validation loss')\n",
        "plt.legend(), plt.grid(), plt.xlabel('epoch')\n",
        "plt.title('MNIST CNN V3')\n",
        "plt.show()"
      ]
    },
    {
      "cell_type": "code",
      "execution_count": 14,
      "metadata": {
        "id": "L8khFsBWm-Ji"
      },
      "outputs": [],
      "source": []
    }
  ],
  "metadata": {
    "accelerator": "GPU",
    "colab": {
      "gpuType": "T4",
      "provenance": []
    },
    "kernelspec": {
      "display_name": "Python 3",
      "name": "python3"
    },
    "language_info": {
      "name": "python"
    }
  },
  "nbformat": 4,
  "nbformat_minor": 0
}
