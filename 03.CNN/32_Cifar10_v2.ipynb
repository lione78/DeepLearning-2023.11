{
  "nbformat": 4,
  "nbformat_minor": 0,
  "metadata": {
    "colab": {
      "provenance": [],
      "gpuType": "T4"
    },
    "kernelspec": {
      "name": "python3",
      "display_name": "Python 3"
    },
    "language_info": {
      "name": "python"
    },
    "accelerator": "GPU"
  },
  "cells": [
    {
      "cell_type": "markdown",
      "source": [
        "### Cifar-10 이미지 분류 - v2\n",
        "- Canadian Institute for Advanced Research, 10 classes\n",
        "- 데이터 부풀리기 사용"
      ],
      "metadata": {
        "id": "QuRfvdQa6Drq"
      }
    },
    {
      "cell_type": "code",
      "execution_count": 1,
      "metadata": {
        "id": "sNW7Ib8U6C5W"
      },
      "outputs": [],
      "source": [
        "import numpy as np\n",
        "import matplotlib.pyplot as plt\n",
        "import tensorflow as tf\n",
        "seed = 2023\n",
        "np.random.seed(seed)\n",
        "tf.random.set_seed(seed)"
      ]
    },
    {
      "cell_type": "markdown",
      "source": [
        "- 데이터 전처리"
      ],
      "metadata": {
        "id": "H-05AA4b6ff4"
      }
    },
    {
      "cell_type": "code",
      "source": [
        "from tensorflow.keras.datasets import cifar10\n",
        "(X_train, y_train), (X_test, y_test) = cifar10.load_data()"
      ],
      "metadata": {
        "colab": {
          "base_uri": "https://localhost:8080/"
        },
        "id": "-gSj8Hkj6Wxh",
        "outputId": "fba50155-1bf8-45c1-d859-8dd6bd27e216"
      },
      "execution_count": 2,
      "outputs": [
        {
          "output_type": "stream",
          "name": "stdout",
          "text": [
            "Downloading data from https://www.cs.toronto.edu/~kriz/cifar-10-python.tar.gz\n",
            "170498071/170498071 [==============================] - 8s 0us/step\n"
          ]
        }
      ]
    },
    {
      "cell_type": "code",
      "source": [
        "# X data: scaling\n",
        "X_train = X_train / 255.\n",
        "X_test = X_test / 255."
      ],
      "metadata": {
        "id": "dPj0mk6K6ePf"
      },
      "execution_count": 3,
      "outputs": []
    },
    {
      "cell_type": "code",
      "source": [
        "# y data : one hot encoding\n",
        "from tensorflow.keras.utils import to_categorical\n",
        "Y_train = to_categorical(y_train)\n",
        "Y_test = to_categorical(y_test)"
      ],
      "metadata": {
        "id": "cAeyZLnZ7E_o"
      },
      "execution_count": 4,
      "outputs": []
    },
    {
      "cell_type": "markdown",
      "source": [
        "- 모델 정의/설정/학습/평가"
      ],
      "metadata": {
        "id": "6USassTf7I5B"
      }
    },
    {
      "cell_type": "code",
      "source": [
        "from tensorflow.keras.models import Sequential, load_model\n",
        "from tensorflow.keras.layers import Conv2D, MaxPooling2D, Flatten, Dropout, Dense\n",
        "from tensorflow.keras.callbacks import ModelCheckpoint, EarlyStopping"
      ],
      "metadata": {
        "id": "TeVSNXww7H64"
      },
      "execution_count": 5,
      "outputs": []
    },
    {
      "cell_type": "code",
      "source": [
        "model = Sequential([\n",
        "    Conv2D(32, (3,3), input_shape=X_train.shape[1:], padding='same', activation='relu'),\n",
        "    Conv2D(32, (3,3), activation='relu'),\n",
        "    MaxPooling2D(),\n",
        "    Dropout(0.25),\n",
        "    Conv2D(64, (3,3), padding='same', activation='relu'),\n",
        "    Conv2D(64, (3,3), activation='relu'),\n",
        "    MaxPooling2D(),\n",
        "    Dropout(0.25),\n",
        "    Flatten(),\n",
        "    Dense(512, activation='relu'),\n",
        "    Dropout(0.5),\n",
        "    Dense(10, activation='softmax')\n",
        "])\n",
        "model.summary()"
      ],
      "metadata": {
        "colab": {
          "base_uri": "https://localhost:8080/"
        },
        "id": "9g_vyX4o7POo",
        "outputId": "23a620af-c51d-4568-c204-adb6deb6b931"
      },
      "execution_count": 6,
      "outputs": [
        {
          "output_type": "stream",
          "name": "stdout",
          "text": [
            "Model: \"sequential\"\n",
            "_________________________________________________________________\n",
            " Layer (type)                Output Shape              Param #   \n",
            "=================================================================\n",
            " conv2d (Conv2D)             (None, 32, 32, 32)        896       \n",
            "                                                                 \n",
            " conv2d_1 (Conv2D)           (None, 30, 30, 32)        9248      \n",
            "                                                                 \n",
            " max_pooling2d (MaxPooling2  (None, 15, 15, 32)        0         \n",
            " D)                                                              \n",
            "                                                                 \n",
            " dropout (Dropout)           (None, 15, 15, 32)        0         \n",
            "                                                                 \n",
            " conv2d_2 (Conv2D)           (None, 15, 15, 64)        18496     \n",
            "                                                                 \n",
            " conv2d_3 (Conv2D)           (None, 13, 13, 64)        36928     \n",
            "                                                                 \n",
            " max_pooling2d_1 (MaxPoolin  (None, 6, 6, 64)          0         \n",
            " g2D)                                                            \n",
            "                                                                 \n",
            " dropout_1 (Dropout)         (None, 6, 6, 64)          0         \n",
            "                                                                 \n",
            " flatten (Flatten)           (None, 2304)              0         \n",
            "                                                                 \n",
            " dense (Dense)               (None, 512)               1180160   \n",
            "                                                                 \n",
            " dropout_2 (Dropout)         (None, 512)               0         \n",
            "                                                                 \n",
            " dense_1 (Dense)             (None, 10)                5130      \n",
            "                                                                 \n",
            "=================================================================\n",
            "Total params: 1250858 (4.77 MB)\n",
            "Trainable params: 1250858 (4.77 MB)\n",
            "Non-trainable params: 0 (0.00 Byte)\n",
            "_________________________________________________________________\n"
          ]
        }
      ]
    },
    {
      "cell_type": "code",
      "source": [
        "model.compile('adam', 'categorical_crossentropy', ['accuracy'])"
      ],
      "metadata": {
        "id": "o6g0IVtN7UxI"
      },
      "execution_count": 7,
      "outputs": []
    },
    {
      "cell_type": "code",
      "source": [
        "model_path = 'models/best_cifar10-v2.h5'\n",
        "mc = ModelCheckpoint(model_path, save_best_only=True, verbose=1)\n",
        "es = EarlyStopping(patience=5)"
      ],
      "metadata": {
        "id": "8WJ-hIVd7X3Z"
      },
      "execution_count": 8,
      "outputs": []
    },
    {
      "cell_type": "markdown",
      "source": [
        "- 데이터 부풀리기"
      ],
      "metadata": {
        "id": "fjWMyCFO7dQY"
      }
    },
    {
      "cell_type": "code",
      "source": [
        "# train(50000) > train(40000), valid(10000) / test(10000) : valid 만들기 위함.\n",
        "from sklearn.model_selection import train_test_split\n",
        "X_train, X_valid, Y_train, Y_valid = train_test_split(\n",
        "    X_train, Y_train, stratify=Y_train, test_size=0.2, random_state=seed\n",
        ")"
      ],
      "metadata": {
        "id": "DO9CTiy27b-w"
      },
      "execution_count": 9,
      "outputs": []
    },
    {
      "cell_type": "code",
      "source": [
        "from tensorflow.keras.preprocessing.image import ImageDataGenerator\n",
        "\n",
        "train_datagen = ImageDataGenerator(\n",
        "    # rescale=1/255.,             # scaling되어 있어서 필요없음.\n",
        "    rotation_range=10,          # randomly rotate images in the range (deg 0 to 15)\n",
        "    width_shift_range=0.1,      # randomly shift images horizontally\n",
        "    height_shift_range=0.1,     # randomly shift images vertically\n",
        "    shear_range=0.1,             # 도형의 기울기\n",
        "    zoom_range=[0.8,1.2],       # 0.8 ~ 1.5 배 크기로 임의로 확대/축소\n",
        "    horizontal_flip=True,       # randomly flip images (수평으로)\n",
        "    vertical_flip=False,        # randomly flip images (수직으로)\n",
        "    fill_mode='nearest'         # set mode for filling points outside the input boundaries\n",
        ")"
      ],
      "metadata": {
        "id": "M7YLIgS774Ca"
      },
      "execution_count": 10,
      "outputs": []
    },
    {
      "cell_type": "code",
      "source": [
        "train_datagen.fit(X_train)"
      ],
      "metadata": {
        "id": "pW8Q9M8Y8aZx"
      },
      "execution_count": 11,
      "outputs": []
    },
    {
      "cell_type": "markdown",
      "source": [
        "- 데이터 부풀리기를 한 결과로 학습"
      ],
      "metadata": {
        "id": "gBbwijwQ8qqp"
      }
    },
    {
      "cell_type": "code",
      "source": [
        "hist = model.fit(\n",
        "    train_datagen.flow(X_train, Y_train, batch_size=32),\n",
        "    validation_data=(X_valid, Y_valid),\n",
        "    epochs=100,\n",
        "    callbacks=[mc, es]\n",
        ")"
      ],
      "metadata": {
        "colab": {
          "base_uri": "https://localhost:8080/"
        },
        "id": "dg7lW1iM8o05",
        "outputId": "b6fb41b8-d2a7-4d0d-be50-5b7d69295f80"
      },
      "execution_count": 12,
      "outputs": [
        {
          "output_type": "stream",
          "name": "stdout",
          "text": [
            "Epoch 1/100\n",
            "1249/1250 [============================>.] - ETA: 0s - loss: 1.7281 - accuracy: 0.3647\n",
            "Epoch 1: val_loss improved from inf to 1.30827, saving model to models/best_cifar10-v2.h5\n",
            "1250/1250 [==============================] - 45s 26ms/step - loss: 1.7277 - accuracy: 0.3649 - val_loss: 1.3083 - val_accuracy: 0.5280\n"
          ]
        },
        {
          "output_type": "stream",
          "name": "stderr",
          "text": [
            "/usr/local/lib/python3.10/dist-packages/keras/src/engine/training.py:3079: UserWarning: You are saving your model as an HDF5 file via `model.save()`. This file format is considered legacy. We recommend using instead the native Keras format, e.g. `model.save('my_model.keras')`.\n",
            "  saving_api.save_model(\n"
          ]
        },
        {
          "output_type": "stream",
          "name": "stdout",
          "text": [
            "Epoch 2/100\n",
            "1249/1250 [============================>.] - ETA: 0s - loss: 1.3877 - accuracy: 0.5002\n",
            "Epoch 2: val_loss improved from 1.30827 to 1.18888, saving model to models/best_cifar10-v2.h5\n",
            "1250/1250 [==============================] - 31s 25ms/step - loss: 1.3876 - accuracy: 0.5002 - val_loss: 1.1889 - val_accuracy: 0.5781\n",
            "Epoch 3/100\n",
            "1249/1250 [============================>.] - ETA: 0s - loss: 1.2645 - accuracy: 0.5471\n",
            "Epoch 3: val_loss improved from 1.18888 to 1.14314, saving model to models/best_cifar10-v2.h5\n",
            "1250/1250 [==============================] - 32s 26ms/step - loss: 1.2641 - accuracy: 0.5473 - val_loss: 1.1431 - val_accuracy: 0.5951\n",
            "Epoch 4/100\n",
            "1250/1250 [==============================] - ETA: 0s - loss: 1.1955 - accuracy: 0.5756\n",
            "Epoch 4: val_loss improved from 1.14314 to 1.02947, saving model to models/best_cifar10-v2.h5\n",
            "1250/1250 [==============================] - 32s 25ms/step - loss: 1.1955 - accuracy: 0.5756 - val_loss: 1.0295 - val_accuracy: 0.6435\n",
            "Epoch 5/100\n",
            "1249/1250 [============================>.] - ETA: 0s - loss: 1.1340 - accuracy: 0.5988\n",
            "Epoch 5: val_loss improved from 1.02947 to 0.92632, saving model to models/best_cifar10-v2.h5\n",
            "1250/1250 [==============================] - 33s 26ms/step - loss: 1.1342 - accuracy: 0.5988 - val_loss: 0.9263 - val_accuracy: 0.6729\n",
            "Epoch 6/100\n",
            "1248/1250 [============================>.] - ETA: 0s - loss: 1.0878 - accuracy: 0.6130\n",
            "Epoch 6: val_loss improved from 0.92632 to 0.92419, saving model to models/best_cifar10-v2.h5\n",
            "1250/1250 [==============================] - 32s 25ms/step - loss: 1.0877 - accuracy: 0.6131 - val_loss: 0.9242 - val_accuracy: 0.6785\n",
            "Epoch 7/100\n",
            "1250/1250 [==============================] - ETA: 0s - loss: 1.0596 - accuracy: 0.6237\n",
            "Epoch 7: val_loss did not improve from 0.92419\n",
            "1250/1250 [==============================] - 33s 27ms/step - loss: 1.0596 - accuracy: 0.6237 - val_loss: 0.9322 - val_accuracy: 0.6716\n",
            "Epoch 8/100\n",
            "1249/1250 [============================>.] - ETA: 0s - loss: 1.0290 - accuracy: 0.6366\n",
            "Epoch 8: val_loss improved from 0.92419 to 0.88994, saving model to models/best_cifar10-v2.h5\n",
            "1250/1250 [==============================] - 32s 26ms/step - loss: 1.0290 - accuracy: 0.6366 - val_loss: 0.8899 - val_accuracy: 0.6885\n",
            "Epoch 9/100\n",
            "1250/1250 [==============================] - ETA: 0s - loss: 1.0106 - accuracy: 0.6428\n",
            "Epoch 9: val_loss improved from 0.88994 to 0.83370, saving model to models/best_cifar10-v2.h5\n",
            "1250/1250 [==============================] - 32s 25ms/step - loss: 1.0106 - accuracy: 0.6428 - val_loss: 0.8337 - val_accuracy: 0.7085\n",
            "Epoch 10/100\n",
            "1250/1250 [==============================] - ETA: 0s - loss: 0.9859 - accuracy: 0.6521\n",
            "Epoch 10: val_loss improved from 0.83370 to 0.82579, saving model to models/best_cifar10-v2.h5\n",
            "1250/1250 [==============================] - 33s 27ms/step - loss: 0.9859 - accuracy: 0.6521 - val_loss: 0.8258 - val_accuracy: 0.7104\n",
            "Epoch 11/100\n",
            "1250/1250 [==============================] - ETA: 0s - loss: 0.9741 - accuracy: 0.6565\n",
            "Epoch 11: val_loss improved from 0.82579 to 0.77855, saving model to models/best_cifar10-v2.h5\n",
            "1250/1250 [==============================] - 32s 26ms/step - loss: 0.9741 - accuracy: 0.6565 - val_loss: 0.7785 - val_accuracy: 0.7297\n",
            "Epoch 12/100\n",
            "1249/1250 [============================>.] - ETA: 0s - loss: 0.9598 - accuracy: 0.6621\n",
            "Epoch 12: val_loss did not improve from 0.77855\n",
            "1250/1250 [==============================] - 31s 25ms/step - loss: 0.9600 - accuracy: 0.6620 - val_loss: 0.8847 - val_accuracy: 0.6980\n",
            "Epoch 13/100\n",
            "1248/1250 [============================>.] - ETA: 0s - loss: 0.9492 - accuracy: 0.6666\n",
            "Epoch 13: val_loss did not improve from 0.77855\n",
            "1250/1250 [==============================] - 32s 26ms/step - loss: 0.9495 - accuracy: 0.6665 - val_loss: 0.7908 - val_accuracy: 0.7258\n",
            "Epoch 14/100\n",
            "1250/1250 [==============================] - ETA: 0s - loss: 0.9402 - accuracy: 0.6733\n",
            "Epoch 14: val_loss did not improve from 0.77855\n",
            "1250/1250 [==============================] - 31s 25ms/step - loss: 0.9402 - accuracy: 0.6733 - val_loss: 0.8130 - val_accuracy: 0.7154\n",
            "Epoch 15/100\n",
            "1249/1250 [============================>.] - ETA: 0s - loss: 0.9216 - accuracy: 0.6781\n",
            "Epoch 15: val_loss did not improve from 0.77855\n",
            "1250/1250 [==============================] - 32s 26ms/step - loss: 0.9214 - accuracy: 0.6782 - val_loss: 0.8813 - val_accuracy: 0.7018\n",
            "Epoch 16/100\n",
            "1250/1250 [==============================] - ETA: 0s - loss: 0.9183 - accuracy: 0.6773\n",
            "Epoch 16: val_loss did not improve from 0.77855\n",
            "1250/1250 [==============================] - 31s 25ms/step - loss: 0.9183 - accuracy: 0.6773 - val_loss: 0.7869 - val_accuracy: 0.7285\n"
          ]
        }
      ]
    },
    {
      "cell_type": "code",
      "source": [
        "best_model = load_model(model_path)\n",
        "best_model.evaluate(X_test, Y_test)"
      ],
      "metadata": {
        "colab": {
          "base_uri": "https://localhost:8080/"
        },
        "id": "gHzkkmo39S4q",
        "outputId": "ef745863-21f7-47cb-c070-000957a64c00"
      },
      "execution_count": 13,
      "outputs": [
        {
          "output_type": "stream",
          "name": "stdout",
          "text": [
            "313/313 [==============================] - 1s 4ms/step - loss: 0.7946 - accuracy: 0.7176\n"
          ]
        },
        {
          "output_type": "execute_result",
          "data": {
            "text/plain": [
              "[0.7946377396583557, 0.7175999879837036]"
            ]
          },
          "metadata": {},
          "execution_count": 13
        }
      ]
    }
  ]
}