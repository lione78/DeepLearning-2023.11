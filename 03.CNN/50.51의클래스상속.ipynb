{
 "cells": [
  {
   "cell_type": "markdown",
   "metadata": {},
   "source": [
    "### [ super().__init__() vs. super(클래스,self).__init__() ]"
   ]
  },
  {
   "cell_type": "markdown",
   "metadata": {},
   "source": [
    "- super().__init__() → python 3 에서만 작동\n",
    "- super(클래스,self).__init__() → python 2,3 모두 작동\n",
    "- 위의 결론은 동일\n",
    "- 출처 : https://supermemi.tistory.com/entry/Python-3-super%ED%81%B4%EB%9E%98%EC%8A%A4-selfinit-%EC%97%90-%EB%8C%80%ED%95%B4-%EC%A0%9C%EB%8C%80%EB%A1%9C-%EC%95%8C%EC%95%84%EB%B3%B4%EC%9E%90"
   ]
  },
  {
   "cell_type": "code",
   "execution_count": 1,
   "metadata": {},
   "outputs": [
    {
     "name": "stdout",
     "output_type": "stream",
     "text": [
      "10\n",
      "20\n",
      "30\n"
     ]
    }
   ],
   "source": [
    "class A:\n",
    "    def __init__(self):\n",
    "        self.a = 10\n",
    "\n",
    "    def get_a(self):\n",
    "        return self.a\n",
    "    \n",
    "class B(A):\n",
    "    def __init__(self):\n",
    "        super().__init__()\n",
    "        self.b = 20\n",
    "\n",
    "    def get_b(self):\n",
    "        return self.b\n",
    "\n",
    "class C(B):\n",
    "    def __init__(self):\n",
    "        super().__init__()\n",
    "        self.c = 30\n",
    "\n",
    "    def get_c(self):\n",
    "        return self.c\n",
    "\n",
    "new_c = C()\n",
    "print(new_c.get_a())\n",
    "print(new_c.get_b())\n",
    "print(new_c.get_c())"
   ]
  },
  {
   "cell_type": "markdown",
   "metadata": {},
   "source": [
    "### 연속 상속에서의 super(자식 클래스, self).__init__()\n",
    "- A > B > C 상속\n",
    "- super().__init__()과 동일"
   ]
  },
  {
   "cell_type": "code",
   "execution_count": 2,
   "metadata": {},
   "outputs": [
    {
     "name": "stdout",
     "output_type": "stream",
     "text": [
      "10 20 30\n"
     ]
    }
   ],
   "source": [
    "class A:\n",
    "    def __init__(self):\n",
    "        self.a = 10\n",
    "    \n",
    "    def get_a(self):\n",
    "        return self.a\n",
    "\n",
    "class B(A):\n",
    "    def __init__(self):\n",
    "        super(B, self).__init__()\n",
    "        self.b = 20\n",
    "\n",
    "    def get_b(self):\n",
    "        return self.b\n",
    "\n",
    "class C(B):\n",
    "    def __init__(self):\n",
    "        super(C, self).__init__()\n",
    "        self.c = 30\n",
    "\n",
    "    def get_c(self):\n",
    "        return self.c\n",
    "\n",
    "new_c = C()\n",
    "print(new_c.get_a(), new_c.get_b(), new_c.get_c())"
   ]
  },
  {
   "cell_type": "markdown",
   "metadata": {},
   "source": [
    "### 연속 상속에서의 super(부모 클래스, self).__init__()\n",
    "- class C 에서 super(C,self).__init__() 이 아닌, super(B,self).__init__()\n",
    "- class C 는 B에서 상속받는 것이 아니라, B의 부모 클래스인 A의 메소드를 상속"
   ]
  },
  {
   "cell_type": "code",
   "execution_count": 6,
   "metadata": {},
   "outputs": [
    {
     "name": "stdout",
     "output_type": "stream",
     "text": [
      "10\n",
      "30\n"
     ]
    }
   ],
   "source": [
    "class A:\n",
    "    def __init__(self):\n",
    "        self.a = 10\n",
    "    \n",
    "    def get_a(self):\n",
    "        return self.a\n",
    "\n",
    "class B(A):\n",
    "    def __init__(self):\n",
    "        super(B, self).__init__()\n",
    "        self.b = 20\n",
    "\n",
    "    def get_b(self):\n",
    "        return self.b\n",
    "\n",
    "class C(B):\n",
    "    def __init__(self):\n",
    "        super(B, self).__init__()\n",
    "        self.c = 30\n",
    "    \n",
    "    def get_c(self):\n",
    "        return self.c\n",
    "\n",
    "new_c = C()\n",
    "print(new_c.get_a())\n",
    "print(new_c.get_c())"
   ]
  },
  {
   "cell_type": "code",
   "execution_count": 7,
   "metadata": {},
   "outputs": [
    {
     "ename": "AttributeError",
     "evalue": "'C' object has no attribute 'b'",
     "output_type": "error",
     "traceback": [
      "\u001b[1;31m---------------------------------------------------------------------------\u001b[0m",
      "\u001b[1;31mAttributeError\u001b[0m                            Traceback (most recent call last)",
      "\u001b[1;32md:\\WorkSpace\\04.DeepLearning\\03.CNN\\50.51의클래스상속.ipynb 셀 8\u001b[0m line \u001b[0;36m1\n\u001b[1;32m----> <a href='vscode-notebook-cell:/d%3A/WorkSpace/04.DeepLearning/03.CNN/50.51%EC%9D%98%ED%81%B4%EB%9E%98%EC%8A%A4%EC%83%81%EC%86%8D.ipynb#X12sZmlsZQ%3D%3D?line=0'>1</a>\u001b[0m \u001b[39mprint\u001b[39m(new_c\u001b[39m.\u001b[39mget_b())\n",
      "\u001b[1;32md:\\WorkSpace\\04.DeepLearning\\03.CNN\\50.51의클래스상속.ipynb 셀 8\u001b[0m line \u001b[0;36m1\n\u001b[0;32m     <a href='vscode-notebook-cell:/d%3A/WorkSpace/04.DeepLearning/03.CNN/50.51%EC%9D%98%ED%81%B4%EB%9E%98%EC%8A%A4%EC%83%81%EC%86%8D.ipynb#X12sZmlsZQ%3D%3D?line=12'>13</a>\u001b[0m \u001b[39mdef\u001b[39;00m \u001b[39mget_b\u001b[39m(\u001b[39mself\u001b[39m):\n\u001b[1;32m---> <a href='vscode-notebook-cell:/d%3A/WorkSpace/04.DeepLearning/03.CNN/50.51%EC%9D%98%ED%81%B4%EB%9E%98%EC%8A%A4%EC%83%81%EC%86%8D.ipynb#X12sZmlsZQ%3D%3D?line=13'>14</a>\u001b[0m     \u001b[39mreturn\u001b[39;00m \u001b[39mself\u001b[39m\u001b[39m.\u001b[39mb\n",
      "\u001b[1;31mAttributeError\u001b[0m: 'C' object has no attribute 'b'"
     ]
    }
   ],
   "source": [
    "print(new_c.get_b())"
   ]
  }
 ],
 "metadata": {
  "kernelspec": {
   "display_name": "base",
   "language": "python",
   "name": "python3"
  },
  "language_info": {
   "codemirror_mode": {
    "name": "ipython",
    "version": 3
   },
   "file_extension": ".py",
   "mimetype": "text/x-python",
   "name": "python",
   "nbconvert_exporter": "python",
   "pygments_lexer": "ipython3",
   "version": "3.11.4"
  }
 },
 "nbformat": 4,
 "nbformat_minor": 2
}
