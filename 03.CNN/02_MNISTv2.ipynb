{
  "cells": [
    {
      "cell_type": "markdown",
      "metadata": {
        "id": "6uR8K1KEe-Hw"
      },
      "source": [
        "### MNIST 손글씨 - CNN v2\n",
        "- 2 x Conv2D layers\n",
        "- 1 x MaxPooling2D layer\n",
        "- 1 FCN layer\n",
        "- 1 Output layer"
      ]
    },
    {
      "cell_type": "code",
      "execution_count": 1,
      "metadata": {
        "id": "5bxkrCdUe4mU"
      },
      "outputs": [],
      "source": [
        "import numpy as np\n",
        "import matplotlib.pyplot as plt\n",
        "import tensorflow as tf\n",
        "seed = 2023\n",
        "np.random.seed(seed)\n",
        "tf.random.set_seed(seed)"
      ]
    },
    {
      "cell_type": "code",
      "execution_count": 2,
      "metadata": {
        "colab": {
          "base_uri": "https://localhost:8080/",
          "height": 35
        },
        "id": "Cs_hPIOMfjPo",
        "outputId": "bb932fdf-21ba-4b8c-9852-88352490c965"
      },
      "outputs": [
        {
          "data": {
            "application/vnd.google.colaboratory.intrinsic+json": {
              "type": "string"
            },
            "text/plain": [
              "'2.14.0'"
            ]
          },
          "execution_count": 2,
          "metadata": {},
          "output_type": "execute_result"
        }
      ],
      "source": [
        "tf.__version__"
      ]
    },
    {
      "cell_type": "markdown",
      "metadata": {
        "id": "vHGs3WgWfgAA"
      },
      "source": [
        "- 데이터 전처리"
      ]
    },
    {
      "cell_type": "code",
      "execution_count": 3,
      "metadata": {
        "colab": {
          "base_uri": "https://localhost:8080/"
        },
        "id": "Qht2jclkfZU7",
        "outputId": "ef7055ab-e501-486b-a715-61fa62078a4a"
      },
      "outputs": [
        {
          "name": "stdout",
          "output_type": "stream",
          "text": [
            "Downloading data from https://storage.googleapis.com/tensorflow/tf-keras-datasets/mnist.npz\n",
            "11490434/11490434 [==============================] - 1s 0us/step\n"
          ]
        },
        {
          "data": {
            "text/plain": [
              "((60000, 28, 28), (60000,), (10000, 28, 28), (10000,))"
            ]
          },
          "execution_count": 3,
          "metadata": {},
          "output_type": "execute_result"
        }
      ],
      "source": [
        "from tensorflow.keras.datasets import mnist\n",
        "(X_train, y_train), (X_test, y_test) = mnist.load_data()\n",
        "X_train.shape, y_train.shape, X_test.shape, y_test.shape"
      ]
    },
    {
      "cell_type": "code",
      "execution_count": 4,
      "metadata": {
        "id": "OIZVEbACf9Tx"
      },
      "outputs": [],
      "source": [
        "# X data의 차원 변경 및 정규화(0 ~ 1)\n",
        "X_train = X_train.reshape(-1, 28, 28, 1) / 255.\n",
        "X_test = X_test.reshape(-1, 28, 28, 1) / 255."
      ]
    },
    {
      "cell_type": "code",
      "execution_count": 5,
      "metadata": {
        "colab": {
          "base_uri": "https://localhost:8080/"
        },
        "id": "A8tmhHBugb8n",
        "outputId": "73bef83d-a23e-4d3e-c225-15a0d6252bd1"
      },
      "outputs": [
        {
          "data": {
            "text/plain": [
              "((60000, 10), (10000, 10))"
            ]
          },
          "execution_count": 5,
          "metadata": {},
          "output_type": "execute_result"
        }
      ],
      "source": [
        "# y_data의 one-hot-encoding\n",
        "from tensorflow.keras.utils import to_categorical\n",
        "Y_train = to_categorical(y_train)\n",
        "Y_test = to_categorical(y_test)\n",
        "Y_train.shape, Y_test.shape"
      ]
    },
    {
      "cell_type": "markdown",
      "metadata": {
        "id": "i0YiJ1Mcg9vp"
      },
      "source": [
        "- 모델 정의/설정/학습/평가"
      ]
    },
    {
      "cell_type": "code",
      "execution_count": 6,
      "metadata": {
        "id": "L-SdrI4Vg1Fx"
      },
      "outputs": [],
      "source": [
        "from tensorflow.keras.models import Sequential, load_model\n",
        "from tensorflow.keras.layers import Conv2D, Dense, Flatten, MaxPooling2D\n",
        "from tensorflow.keras.callbacks import ModelCheckpoint, EarlyStopping"
      ]
    },
    {
      "cell_type": "code",
      "execution_count": 7,
      "metadata": {
        "colab": {
          "base_uri": "https://localhost:8080/"
        },
        "id": "ZvFhL5syhX4R",
        "outputId": "768bab95-6a28-451a-9db5-e8f113a7b663"
      },
      "outputs": [
        {
          "name": "stdout",
          "output_type": "stream",
          "text": [
            "Model: \"sequential\"\n",
            "_________________________________________________________________\n",
            " Layer (type)                Output Shape              Param #   \n",
            "=================================================================\n",
            " conv2d (Conv2D)             (None, 26, 26, 32)        320       \n",
            "                                                                 \n",
            " conv2d_1 (Conv2D)           (None, 24, 24, 64)        18496     \n",
            "                                                                 \n",
            " max_pooling2d (MaxPooling2  (None, 12, 12, 64)        0         \n",
            " D)                                                              \n",
            "                                                                 \n",
            " flatten (Flatten)           (None, 9216)              0         \n",
            "                                                                 \n",
            " dense (Dense)               (None, 512)               4719104   \n",
            "                                                                 \n",
            " dense_1 (Dense)             (None, 10)                5130      \n",
            "                                                                 \n",
            "=================================================================\n",
            "Total params: 4743050 (18.09 MB)\n",
            "Trainable params: 4743050 (18.09 MB)\n",
            "Non-trainable params: 0 (0.00 Byte)\n",
            "_________________________________________________________________\n"
          ]
        }
      ],
      "source": [
        "model = Sequential([\n",
        "    Conv2D(32, kernel_size=(3,3), input_shape=(28, 28, 1), activation='relu'),\n",
        "    Conv2D(64, kernel_size=(3,3), activation='relu'),\n",
        "    MaxPooling2D(),         # MaxPooling2D(pool_size=(2,2))\n",
        "    Flatten(),\n",
        "    Dense(512, activation='relu'),\n",
        "    Dense(10, activation='softmax')\n",
        "])\n",
        "model.summary()\n",
        "# params가 v1보다 1/4로 줄어듦"
      ]
    },
    {
      "cell_type": "code",
      "execution_count": 8,
      "metadata": {
        "id": "8jJxM0GviWwL"
      },
      "outputs": [],
      "source": [
        "model.compile('adam', 'categorical_crossentropy', metrics=['accuracy'])"
      ]
    },
    {
      "cell_type": "code",
      "execution_count": 9,
      "metadata": {
        "colab": {
          "base_uri": "https://localhost:8080/"
        },
        "id": "5nNJRU-QkXR4",
        "outputId": "b8085756-6aba-4c83-bcbb-3f840d198c7c"
      },
      "outputs": [
        {
          "name": "stdout",
          "output_type": "stream",
          "text": [
            "total 8\n",
            "drwxr-xr-x 2 root root 4096 Nov  8 02:05 models\n",
            "drwxr-xr-x 1 root root 4096 Nov  6 14:20 sample_data\n"
          ]
        }
      ],
      "source": [
        "!mkdir models      # ! 리눅스 명령어\n",
        "!ls -l"
      ]
    },
    {
      "cell_type": "code",
      "execution_count": 10,
      "metadata": {
        "id": "Tl2KA385j-_7"
      },
      "outputs": [],
      "source": [
        "model_path = 'models/best-mnist-v2.h5'\n",
        "mc = ModelCheckpoint(model_path, save_best_only=True, verbose=1)\n",
        "es = EarlyStopping(patience=5)"
      ]
    },
    {
      "cell_type": "code",
      "execution_count": 11,
      "metadata": {
        "colab": {
          "base_uri": "https://localhost:8080/"
        },
        "id": "vynR1WXck-mz",
        "outputId": "662a904b-4a3b-4484-a804-3d7cbcc8ff43"
      },
      "outputs": [
        {
          "name": "stdout",
          "output_type": "stream",
          "text": [
            "Epoch 1/100\n",
            "188/188 [==============================] - ETA: 0s - loss: 0.2007 - accuracy: 0.9391\n",
            "Epoch 1: val_loss improved from inf to 0.05791, saving model to best-mnist-v2.h5\n",
            "188/188 [==============================] - 14s 18ms/step - loss: 0.2007 - accuracy: 0.9391 - val_loss: 0.0579 - val_accuracy: 0.9830\n",
            "Epoch 2/100\n",
            "  6/188 [..............................] - ETA: 2s - loss: 0.0556 - accuracy: 0.9831"
          ]
        },
        {
          "name": "stderr",
          "output_type": "stream",
          "text": [
            "/usr/local/lib/python3.10/dist-packages/keras/src/engine/training.py:3079: UserWarning: You are saving your model as an HDF5 file via `model.save()`. This file format is considered legacy. We recommend using instead the native Keras format, e.g. `model.save('my_model.keras')`.\n",
            "  saving_api.save_model(\n"
          ]
        },
        {
          "name": "stdout",
          "output_type": "stream",
          "text": [
            "186/188 [============================>.] - ETA: 0s - loss: 0.0492 - accuracy: 0.9849\n",
            "Epoch 2: val_loss improved from 0.05791 to 0.04518, saving model to best-mnist-v2.h5\n",
            "188/188 [==============================] - 3s 15ms/step - loss: 0.0491 - accuracy: 0.9848 - val_loss: 0.0452 - val_accuracy: 0.9865\n",
            "Epoch 3/100\n",
            "187/188 [============================>.] - ETA: 0s - loss: 0.0288 - accuracy: 0.9906\n",
            "Epoch 3: val_loss improved from 0.04518 to 0.04301, saving model to best-mnist-v2.h5\n",
            "188/188 [==============================] - 3s 15ms/step - loss: 0.0288 - accuracy: 0.9906 - val_loss: 0.0430 - val_accuracy: 0.9871\n",
            "Epoch 4/100\n",
            "188/188 [==============================] - ETA: 0s - loss: 0.0186 - accuracy: 0.9939\n",
            "Epoch 4: val_loss improved from 0.04301 to 0.04239, saving model to best-mnist-v2.h5\n",
            "188/188 [==============================] - 3s 16ms/step - loss: 0.0186 - accuracy: 0.9939 - val_loss: 0.0424 - val_accuracy: 0.9883\n",
            "Epoch 5/100\n",
            "185/188 [============================>.] - ETA: 0s - loss: 0.0119 - accuracy: 0.9961\n",
            "Epoch 5: val_loss did not improve from 0.04239\n",
            "188/188 [==============================] - 3s 14ms/step - loss: 0.0119 - accuracy: 0.9961 - val_loss: 0.0441 - val_accuracy: 0.9884\n",
            "Epoch 6/100\n",
            "187/188 [============================>.] - ETA: 0s - loss: 0.0082 - accuracy: 0.9974\n",
            "Epoch 6: val_loss improved from 0.04239 to 0.03994, saving model to best-mnist-v2.h5\n",
            "188/188 [==============================] - 3s 15ms/step - loss: 0.0081 - accuracy: 0.9974 - val_loss: 0.0399 - val_accuracy: 0.9887\n",
            "Epoch 7/100\n",
            "187/188 [============================>.] - ETA: 0s - loss: 0.0058 - accuracy: 0.9985\n",
            "Epoch 7: val_loss did not improve from 0.03994\n",
            "188/188 [==============================] - 3s 14ms/step - loss: 0.0058 - accuracy: 0.9985 - val_loss: 0.0482 - val_accuracy: 0.9884\n",
            "Epoch 8/100\n",
            "185/188 [============================>.] - ETA: 0s - loss: 0.0045 - accuracy: 0.9985\n",
            "Epoch 8: val_loss did not improve from 0.03994\n",
            "188/188 [==============================] - 3s 15ms/step - loss: 0.0045 - accuracy: 0.9985 - val_loss: 0.0533 - val_accuracy: 0.9884\n",
            "Epoch 9/100\n",
            "185/188 [============================>.] - ETA: 0s - loss: 0.0030 - accuracy: 0.9991\n",
            "Epoch 9: val_loss did not improve from 0.03994\n",
            "188/188 [==============================] - 3s 15ms/step - loss: 0.0030 - accuracy: 0.9991 - val_loss: 0.0441 - val_accuracy: 0.9902\n",
            "Epoch 10/100\n",
            "187/188 [============================>.] - ETA: 0s - loss: 0.0042 - accuracy: 0.9987\n",
            "Epoch 10: val_loss did not improve from 0.03994\n",
            "188/188 [==============================] - 3s 15ms/step - loss: 0.0042 - accuracy: 0.9987 - val_loss: 0.0538 - val_accuracy: 0.9877\n",
            "Epoch 11/100\n",
            "186/188 [============================>.] - ETA: 0s - loss: 0.0075 - accuracy: 0.9975\n",
            "Epoch 11: val_loss did not improve from 0.03994\n",
            "188/188 [==============================] - 3s 14ms/step - loss: 0.0075 - accuracy: 0.9975 - val_loss: 0.0436 - val_accuracy: 0.9897\n"
          ]
        }
      ],
      "source": [
        "hist = model.fit(\n",
        "    X_train, Y_train, validation_split=0.2,\n",
        "    epochs=100, batch_size=256, callbacks=[mc, es]\n",
        ")"
      ]
    },
    {
      "cell_type": "code",
      "execution_count": 12,
      "metadata": {
        "colab": {
          "base_uri": "https://localhost:8080/"
        },
        "id": "-vDs4IjNlaGb",
        "outputId": "f0b4dde7-7bdf-4edb-8617-cc47bd160ad7"
      },
      "outputs": [
        {
          "name": "stdout",
          "output_type": "stream",
          "text": [
            "313/313 [==============================] - 1s 3ms/step - loss: 0.0376 - accuracy: 0.9884\n"
          ]
        },
        {
          "data": {
            "text/plain": [
              "[0.037581510841846466, 0.9883999824523926]"
            ]
          },
          "execution_count": 12,
          "metadata": {},
          "output_type": "execute_result"
        }
      ],
      "source": [
        "best_model = load_model(model_path)\n",
        "best_model.evaluate(X_test, Y_test)"
      ]
    },
    {
      "cell_type": "code",
      "execution_count": 13,
      "metadata": {
        "id": "qB5TjJj9mdMz"
      },
      "outputs": [],
      "source": [
        "y_acc = hist.history['accuracy']\n",
        "y_vloss = hist.history['val_loss']\n",
        "xs = np.arange(1, len(y_acc)+1)"
      ]
    },
    {
      "cell_type": "code",
      "execution_count": 14,
      "metadata": {
        "colab": {
          "base_uri": "https://localhost:8080/",
          "height": 542
        },
        "id": "Q_cHuejam7ZZ",
        "outputId": "972ed222-e2e8-47aa-a8ad-f15526ff795d"
      },
      "outputs": [
        {
          "data": {
            "image/png": "[encoded data removed]",
            "text/plain": [
              "<Figure size 1200x600 with 1 Axes>"
            ]
          },
          "metadata": {},
          "output_type": "display_data"
        }
      ],
      "source": [
        "plt.figure(figsize=(12,6))\n",
        "plt.plot(xs, y_acc, label='train accuracy')\n",
        "plt.plot(xs, y_vloss, label='validation loss')\n",
        "plt.legend(), plt.grid(), plt.xlabel('epoch')\n",
        "plt.title('MNIST CNN V2')\n",
        "plt.show()"
      ]
    },
    {
      "cell_type": "code",
      "execution_count": 14,
      "metadata": {
        "id": "L8khFsBWm-Ji"
      },
      "outputs": [],
      "source": []
    }
  ],
  "metadata": {
    "accelerator": "GPU",
    "colab": {
      "gpuType": "T4",
      "provenance": []
    },
    "kernelspec": {
      "display_name": "Python 3",
      "name": "python3"
    },
    "language_info": {
      "name": "python"
    }
  },
  "nbformat": 4,
  "nbformat_minor": 0
}
