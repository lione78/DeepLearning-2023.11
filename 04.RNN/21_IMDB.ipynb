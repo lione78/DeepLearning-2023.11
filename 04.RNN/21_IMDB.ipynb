{
  "nbformat": 4,
  "nbformat_minor": 0,
  "metadata": {
    "colab": {
      "provenance": [],
      "gpuType": "T4"
    },
    "kernelspec": {
      "name": "python3",
      "display_name": "Python 3"
    },
    "language_info": {
      "name": "python"
    },
    "accelerator": "GPU"
  },
  "cells": [
    {
      "cell_type": "markdown",
      "source": [
        "### IMDB 영화리뷰 감성분석"
      ],
      "metadata": {
        "id": "jZGpMi1PCYsA"
      }
    },
    {
      "cell_type": "code",
      "execution_count": 1,
      "metadata": {
        "id": "Al0dyY9DCRKs"
      },
      "outputs": [],
      "source": [
        "import numpy as np\n",
        "import tensorflow as tf\n",
        "seed = 2023\n",
        "np.random.seed(seed)\n",
        "tf.random.set_seed(seed)"
      ]
    },
    {
      "cell_type": "code",
      "source": [
        "from tensorflow.keras.datasets import imdb\n",
        "(X_train, y_train), (X_test, y_test) = imdb.load_data()"
      ],
      "metadata": {
        "colab": {
          "base_uri": "https://localhost:8080/"
        },
        "id": "PXkn2eFOCqFJ",
        "outputId": "52a1b7ea-3b5a-47c0-db86-46ef8a7777bf"
      },
      "execution_count": 2,
      "outputs": [
        {
          "output_type": "stream",
          "name": "stdout",
          "text": [
            "Downloading data from https://storage.googleapis.com/tensorflow/tf-keras-datasets/imdb.npz\n",
            "17464789/17464789 [==============================] - 0s 0us/step\n"
          ]
        }
      ]
    },
    {
      "cell_type": "code",
      "source": [
        "len(X_train), len(X_test)"
      ],
      "metadata": {
        "colab": {
          "base_uri": "https://localhost:8080/"
        },
        "id": "4iuJeEcXC9rx",
        "outputId": "aea25e39-b3db-4509-d4c9-f19a006373cb"
      },
      "execution_count": 3,
      "outputs": [
        {
          "output_type": "execute_result",
          "data": {
            "text/plain": [
              "(25000, 25000)"
            ]
          },
          "metadata": {},
          "execution_count": 3
        }
      ]
    },
    {
      "cell_type": "code",
      "source": [
        "# 등장한 단어수\n",
        "len(imdb.get_word_index())"
      ],
      "metadata": {
        "colab": {
          "base_uri": "https://localhost:8080/"
        },
        "id": "YCPSgTqXDDco",
        "outputId": "4d69e5f5-acf2-431d-acf7-f92b48aa71ac"
      },
      "execution_count": 4,
      "outputs": [
        {
          "output_type": "stream",
          "name": "stdout",
          "text": [
            "Downloading data from https://storage.googleapis.com/tensorflow/tf-keras-datasets/imdb_word_index.json\n",
            "1641221/1641221 [==============================] - 0s 0us/step\n"
          ]
        },
        {
          "output_type": "execute_result",
          "data": {
            "text/plain": [
              "88584"
            ]
          },
          "metadata": {},
          "execution_count": 4
        }
      ]
    },
    {
      "cell_type": "code",
      "source": [
        "print(X_train[0])"
      ],
      "metadata": {
        "colab": {
          "base_uri": "https://localhost:8080/"
        },
        "id": "9DuJSNgmDpaZ",
        "outputId": "23c684a5-7f02-4f33-d1c7-8541b089842e"
      },
      "execution_count": 5,
      "outputs": [
        {
          "output_type": "stream",
          "name": "stdout",
          "text": [
            "[1, 14, 22, 16, 43, 530, 973, 1622, 1385, 65, 458, 4468, 66, 3941, 4, 173, 36, 256, 5, 25, 100, 43, 838, 112, 50, 670, 22665, 9, 35, 480, 284, 5, 150, 4, 172, 112, 167, 21631, 336, 385, 39, 4, 172, 4536, 1111, 17, 546, 38, 13, 447, 4, 192, 50, 16, 6, 147, 2025, 19, 14, 22, 4, 1920, 4613, 469, 4, 22, 71, 87, 12, 16, 43, 530, 38, 76, 15, 13, 1247, 4, 22, 17, 515, 17, 12, 16, 626, 18, 19193, 5, 62, 386, 12, 8, 316, 8, 106, 5, 4, 2223, 5244, 16, 480, 66, 3785, 33, 4, 130, 12, 16, 38, 619, 5, 25, 124, 51, 36, 135, 48, 25, 1415, 33, 6, 22, 12, 215, 28, 77, 52, 5, 14, 407, 16, 82, 10311, 8, 4, 107, 117, 5952, 15, 256, 4, 31050, 7, 3766, 5, 723, 36, 71, 43, 530, 476, 26, 400, 317, 46, 7, 4, 12118, 1029, 13, 104, 88, 4, 381, 15, 297, 98, 32, 2071, 56, 26, 141, 6, 194, 7486, 18, 4, 226, 22, 21, 134, 476, 26, 480, 5, 144, 30, 5535, 18, 51, 36, 28, 224, 92, 25, 104, 4, 226, 65, 16, 38, 1334, 88, 12, 16, 283, 5, 16, 4472, 113, 103, 32, 15, 16, 5345, 19, 178, 32]\n"
          ]
        }
      ]
    },
    {
      "cell_type": "code",
      "source": [
        "# 리뷰 최대/평균 길이\n",
        "max(len(s) for s in X_train), sum(len(s) for s in X_train) / len(X_train)"
      ],
      "metadata": {
        "colab": {
          "base_uri": "https://localhost:8080/"
        },
        "id": "B2EQZHjLDXeg",
        "outputId": "c72812e7-a106-42b8-a56a-4774925b0aa3"
      },
      "execution_count": 6,
      "outputs": [
        {
          "output_type": "execute_result",
          "data": {
            "text/plain": [
              "(2494, 238.71364)"
            ]
          },
          "metadata": {},
          "execution_count": 6
        }
      ]
    },
    {
      "cell_type": "markdown",
      "source": [
        "#### 1. LSTM으로 감성분석\n",
        "- 단어빈도수 기준 많이 사용되는 10,000 단어만 사용\n",
        "- 한 문장의 단어수 : 200 단어 / 두괄식으로 표현"
      ],
      "metadata": {
        "id": "AfnNUQpkE7Li"
      }
    },
    {
      "cell_type": "code",
      "source": [
        "from tensorflow.keras.models import Sequential, load_model\n",
        "from tensorflow.keras.layers import Embedding, LSTM, Dense\n",
        "from tensorflow.keras.callbacks import ModelCheckpoint, EarlyStopping\n",
        "from tensorflow.keras.preprocessing.sequence import pad_sequences"
      ],
      "metadata": {
        "id": "NmyiWKiDD6nJ"
      },
      "execution_count": 7,
      "outputs": []
    },
    {
      "cell_type": "code",
      "source": [
        "num_words = 10000\n",
        "(X_train, y_train), (X_test, y_test) = imdb.load_data(num_words=num_words)"
      ],
      "metadata": {
        "id": "1U3zTx_2F7yh"
      },
      "execution_count": 8,
      "outputs": []
    },
    {
      "cell_type": "code",
      "source": [
        "max_len = 200\n",
        "X_train = pad_sequences(X_train, maxlen=max_len)\n",
        "X_test = pad_sequences(X_test, maxlen=max_len)\n",
        "X_train.shape, X_test.shape"
      ],
      "metadata": {
        "colab": {
          "base_uri": "https://localhost:8080/"
        },
        "id": "tcmYybZBGNUB",
        "outputId": "2e4af9dc-6876-4cc9-af17-0a5701b752fb"
      },
      "execution_count": 9,
      "outputs": [
        {
          "output_type": "execute_result",
          "data": {
            "text/plain": [
              "((25000, 200), (25000, 200))"
            ]
          },
          "metadata": {},
          "execution_count": 9
        }
      ]
    },
    {
      "cell_type": "markdown",
      "source": [
        "- 모델\n",
        "    - Embedding vector size : 100 ea\n",
        "    - LSTM node 수 : 128 units"
      ],
      "metadata": {
        "id": "UFBuERc6HCVy"
      }
    },
    {
      "cell_type": "code",
      "source": [
        "model = Sequential([\n",
        "    Embedding(num_words, 100, input_length=max_len),\n",
        "    LSTM(128),      # activation='tanh' 생략\n",
        "    Dense(1, activation='sigmoid')\n",
        "])\n",
        "model.summary()"
      ],
      "metadata": {
        "colab": {
          "base_uri": "https://localhost:8080/"
        },
        "id": "28ItmRhuGkrS",
        "outputId": "99594f45-ed59-4d11-b95f-ecf5b8a14d27"
      },
      "execution_count": 10,
      "outputs": [
        {
          "output_type": "stream",
          "name": "stdout",
          "text": [
            "Model: \"sequential\"\n",
            "_________________________________________________________________\n",
            " Layer (type)                Output Shape              Param #   \n",
            "=================================================================\n",
            " embedding (Embedding)       (None, 200, 100)          1000000   \n",
            "                                                                 \n",
            " lstm (LSTM)                 (None, 128)               117248    \n",
            "                                                                 \n",
            " dense (Dense)               (None, 1)                 129       \n",
            "                                                                 \n",
            "=================================================================\n",
            "Total params: 1117377 (4.26 MB)\n",
            "Trainable params: 1117377 (4.26 MB)\n",
            "Non-trainable params: 0 (0.00 Byte)\n",
            "_________________________________________________________________\n"
          ]
        }
      ]
    },
    {
      "cell_type": "code",
      "source": [
        "model.compile('adam', 'binary_crossentropy', ['accuracy'])\n",
        "\n",
        "model_path = 'best-imdb-lstm.h5'\n",
        "mc = ModelCheckpoint(model_path, save_best_only=True, verbose=1)\n",
        "es = EarlyStopping(patience=5)"
      ],
      "metadata": {
        "id": "S23LSwJ1Hruj"
      },
      "execution_count": 11,
      "outputs": []
    },
    {
      "cell_type": "code",
      "source": [
        "hist = model.fit(\n",
        "    X_train, y_train, validation_split=0.2,\n",
        "    epochs=30, batch_size=64, callbacks=[mc, es]\n",
        ")"
      ],
      "metadata": {
        "colab": {
          "base_uri": "https://localhost:8080/"
        },
        "id": "FZq85ic8H5ri",
        "outputId": "fb3cd9a4-39d1-43b1-d734-0ddcbfe7d386"
      },
      "execution_count": 12,
      "outputs": [
        {
          "output_type": "stream",
          "name": "stdout",
          "text": [
            "Epoch 1/30\n",
            "313/313 [==============================] - ETA: 0s - loss: 0.4174 - accuracy: 0.7981\n",
            "Epoch 1: val_loss improved from inf to 0.32181, saving model to best-imdb-lstm.h5\n",
            "313/313 [==============================] - 48s 131ms/step - loss: 0.4174 - accuracy: 0.7981 - val_loss: 0.3218 - val_accuracy: 0.8678\n",
            "Epoch 2/30\n",
            "  1/313 [..............................] - ETA: 4s - loss: 0.2916 - accuracy: 0.8906"
          ]
        },
        {
          "output_type": "stream",
          "name": "stderr",
          "text": [
            "/usr/local/lib/python3.10/dist-packages/keras/src/engine/training.py:3079: UserWarning: You are saving your model as an HDF5 file via `model.save()`. This file format is considered legacy. We recommend using instead the native Keras format, e.g. `model.save('my_model.keras')`.\n",
            "  saving_api.save_model(\n"
          ]
        },
        {
          "output_type": "stream",
          "name": "stdout",
          "text": [
            "313/313 [==============================] - ETA: 0s - loss: 0.2647 - accuracy: 0.8957\n",
            "Epoch 2: val_loss did not improve from 0.32181\n",
            "313/313 [==============================] - 18s 56ms/step - loss: 0.2647 - accuracy: 0.8957 - val_loss: 0.3758 - val_accuracy: 0.8662\n",
            "Epoch 3/30\n",
            "313/313 [==============================] - ETA: 0s - loss: 0.1745 - accuracy: 0.9376\n",
            "Epoch 3: val_loss did not improve from 0.32181\n",
            "313/313 [==============================] - 10s 32ms/step - loss: 0.1745 - accuracy: 0.9376 - val_loss: 0.3398 - val_accuracy: 0.8734\n",
            "Epoch 4/30\n",
            "313/313 [==============================] - ETA: 0s - loss: 0.1254 - accuracy: 0.9547\n",
            "Epoch 4: val_loss did not improve from 0.32181\n",
            "313/313 [==============================] - 8s 26ms/step - loss: 0.1254 - accuracy: 0.9547 - val_loss: 0.4013 - val_accuracy: 0.8656\n",
            "Epoch 5/30\n",
            "313/313 [==============================] - ETA: 0s - loss: 0.0907 - accuracy: 0.9685\n",
            "Epoch 5: val_loss did not improve from 0.32181\n",
            "313/313 [==============================] - 6s 20ms/step - loss: 0.0907 - accuracy: 0.9685 - val_loss: 0.5309 - val_accuracy: 0.8642\n",
            "Epoch 6/30\n",
            "313/313 [==============================] - ETA: 0s - loss: 0.0833 - accuracy: 0.9712\n",
            "Epoch 6: val_loss did not improve from 0.32181\n",
            "313/313 [==============================] - 6s 20ms/step - loss: 0.0833 - accuracy: 0.9712 - val_loss: 0.4906 - val_accuracy: 0.8606\n"
          ]
        }
      ]
    },
    {
      "cell_type": "code",
      "source": [
        "best_model = load_model(model_path)\n",
        "best_model.evaluate(X_test, y_test)"
      ],
      "metadata": {
        "colab": {
          "base_uri": "https://localhost:8080/"
        },
        "id": "OUxjpUQIM88E",
        "outputId": "f02531c8-7d84-4d97-82d8-8acbd71b5e3a"
      },
      "execution_count": 13,
      "outputs": [
        {
          "output_type": "stream",
          "name": "stdout",
          "text": [
            "782/782 [==============================] - 4s 5ms/step - loss: 0.3393 - accuracy: 0.8549\n"
          ]
        },
        {
          "output_type": "execute_result",
          "data": {
            "text/plain": [
              "[0.339260458946228, 0.8548799753189087]"
            ]
          },
          "metadata": {},
          "execution_count": 13
        }
      ]
    },
    {
      "cell_type": "markdown",
      "source": [
        "#### 2. Conv1D로 학습"
      ],
      "metadata": {
        "id": "BZp7YoPeNHbF"
      }
    },
    {
      "cell_type": "code",
      "source": [
        "from tensorflow.keras.layers import Conv1D, MaxPooling1D, GlobalMaxPooling1D, Dropout"
      ],
      "metadata": {
        "id": "somLgF1BNDMb"
      },
      "execution_count": 14,
      "outputs": []
    },
    {
      "cell_type": "code",
      "source": [
        "model2 = Sequential([\n",
        "    Embedding(num_words, 100, input_length=max_len),\n",
        "    Dropout(0.5),\n",
        "    Conv1D(64, 7, activation='relu'),       # (7,)의 벡터가 생성\n",
        "    MaxPooling1D(7),\n",
        "    Conv1D(64, 5, activation='relu'),\n",
        "    MaxPooling1D(5),\n",
        "    GlobalMaxPooling1D(),       # Flatten()과 같은 역할\n",
        "    Dense(1, 'sigmoid')\n",
        "])"
      ],
      "metadata": {
        "id": "Tp50c4gBNWm7"
      },
      "execution_count": 15,
      "outputs": []
    },
    {
      "cell_type": "code",
      "source": [
        "model2.compile('adam', 'binary_crossentropy', ['accuracy'])\n",
        "\n",
        "model_path2 = 'best-imdb-conv1D.h5'\n",
        "mc2 = ModelCheckpoint(model_path2, save_best_only=True, verbose=1)\n",
        "es2 = EarlyStopping(patience=5)"
      ],
      "metadata": {
        "id": "Pz4AcWFBOIvO"
      },
      "execution_count": 17,
      "outputs": []
    },
    {
      "cell_type": "code",
      "source": [
        "hist2 = model2.fit(\n",
        "    X_train, y_train, validation_split=0.2,\n",
        "    epochs=30, batch_size=64, callbacks=[mc2, es2]\n",
        ")"
      ],
      "metadata": {
        "colab": {
          "base_uri": "https://localhost:8080/"
        },
        "id": "SxYLoyytOSlE",
        "outputId": "6f06184a-145a-4c99-b423-bdbdcdde5577"
      },
      "execution_count": 18,
      "outputs": [
        {
          "output_type": "stream",
          "name": "stdout",
          "text": [
            "Epoch 1/30\n",
            "313/313 [==============================] - ETA: 0s - loss: 0.5240 - accuracy: 0.7099\n",
            "Epoch 1: val_loss improved from inf to 0.36440, saving model to best-imdb-conv1D.h5\n",
            "313/313 [==============================] - 34s 81ms/step - loss: 0.5240 - accuracy: 0.7099 - val_loss: 0.3644 - val_accuracy: 0.8456\n",
            "Epoch 2/30\n",
            "  3/313 [..............................] - ETA: 17s - loss: 0.3313 - accuracy: 0.8490"
          ]
        },
        {
          "output_type": "stream",
          "name": "stderr",
          "text": [
            "/usr/local/lib/python3.10/dist-packages/keras/src/engine/training.py:3079: UserWarning: You are saving your model as an HDF5 file via `model.save()`. This file format is considered legacy. We recommend using instead the native Keras format, e.g. `model.save('my_model.keras')`.\n",
            "  saving_api.save_model(\n"
          ]
        },
        {
          "output_type": "stream",
          "name": "stdout",
          "text": [
            "313/313 [==============================] - ETA: 0s - loss: 0.3003 - accuracy: 0.8722\n",
            "Epoch 2: val_loss improved from 0.36440 to 0.35418, saving model to best-imdb-conv1D.h5\n",
            "313/313 [==============================] - 10s 33ms/step - loss: 0.3003 - accuracy: 0.8722 - val_loss: 0.3542 - val_accuracy: 0.8498\n",
            "Epoch 3/30\n",
            "313/313 [==============================] - ETA: 0s - loss: 0.2149 - accuracy: 0.9167\n",
            "Epoch 3: val_loss did not improve from 0.35418\n",
            "313/313 [==============================] - 6s 20ms/step - loss: 0.2149 - accuracy: 0.9167 - val_loss: 0.3721 - val_accuracy: 0.8506\n",
            "Epoch 4/30\n",
            "313/313 [==============================] - ETA: 0s - loss: 0.1565 - accuracy: 0.9401\n",
            "Epoch 4: val_loss did not improve from 0.35418\n",
            "313/313 [==============================] - 5s 15ms/step - loss: 0.1565 - accuracy: 0.9401 - val_loss: 0.4178 - val_accuracy: 0.8492\n",
            "Epoch 5/30\n",
            "313/313 [==============================] - ETA: 0s - loss: 0.1108 - accuracy: 0.9583\n",
            "Epoch 5: val_loss did not improve from 0.35418\n",
            "313/313 [==============================] - 5s 15ms/step - loss: 0.1108 - accuracy: 0.9583 - val_loss: 0.5118 - val_accuracy: 0.8384\n",
            "Epoch 6/30\n",
            "313/313 [==============================] - ETA: 0s - loss: 0.0809 - accuracy: 0.9703\n",
            "Epoch 6: val_loss did not improve from 0.35418\n",
            "313/313 [==============================] - 3s 10ms/step - loss: 0.0809 - accuracy: 0.9703 - val_loss: 0.5844 - val_accuracy: 0.8410\n",
            "Epoch 7/30\n",
            "313/313 [==============================] - ETA: 0s - loss: 0.0594 - accuracy: 0.9784\n",
            "Epoch 7: val_loss did not improve from 0.35418\n",
            "313/313 [==============================] - 4s 14ms/step - loss: 0.0594 - accuracy: 0.9784 - val_loss: 0.7214 - val_accuracy: 0.8358\n"
          ]
        }
      ]
    },
    {
      "cell_type": "code",
      "source": [
        "best_model2 = load_model(model_path2)\n",
        "best_model2.evaluate(X_test, y_test)"
      ],
      "metadata": {
        "colab": {
          "base_uri": "https://localhost:8080/"
        },
        "id": "A9Z5xWrnOY58",
        "outputId": "b14523ff-62cd-4d32-c245-904aba4b8f90"
      },
      "execution_count": 19,
      "outputs": [
        {
          "output_type": "stream",
          "name": "stdout",
          "text": [
            "782/782 [==============================] - 3s 3ms/step - loss: 0.3732 - accuracy: 0.8332\n"
          ]
        },
        {
          "output_type": "execute_result",
          "data": {
            "text/plain": [
              "[0.3731740117073059, 0.8331599831581116]"
            ]
          },
          "metadata": {},
          "execution_count": 19
        }
      ]
    },
    {
      "cell_type": "code",
      "source": [],
      "metadata": {
        "id": "Fyw7kwzYO7uE"
      },
      "execution_count": null,
      "outputs": []
    }
  ]
}